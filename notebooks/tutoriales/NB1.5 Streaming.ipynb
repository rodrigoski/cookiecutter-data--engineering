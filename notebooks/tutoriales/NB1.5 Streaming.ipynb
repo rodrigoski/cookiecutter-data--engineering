{
 "cells": [
  {
   "cell_type": "markdown",
   "metadata": {},
   "source": [
    "# NB1.5 — Streaming vs Batch (WebSockets & Polling)\n",
    "\n",
    "En esta práctica implementamos **Streaming** con WebSockets y **Batch frecuente** con HTTP Polling. Guardaremos todo en **JSON Lines** en `../../data/` y compararemos latencia y continuidad.\n",
    "\n",
    "**Objetivos**\n",
    "- Entender diferencias clave **Batch vs Streaming**.\n",
    "- Ejecutar un cliente **WebSocket** para ingesta continua.\n",
    "- Ejecutar **HTTP Polling** como micro-batch.\n",
    "- Comparar resultados en pandas.\n"
   ]
  },
  {
   "cell_type": "markdown",
   "metadata": {},
   "source": [
    "## 1) Dependencias\n",
    "Instalamos librerías requeridas para los scripts en `src/streaming/`."
   ]
  },
  {
   "cell_type": "code",
   "execution_count": 2,
   "metadata": {
    "id": "deps"
   },
   "outputs": [
    {
     "name": "stderr",
     "output_type": "stream",
     "text": [
      "\n",
      "[notice] A new release of pip is available: 24.3.1 -> 25.2\n",
      "[notice] To update, run: C:\\Users\\IGNITER\\AppData\\Local\\Programs\\Python\\Python313\\python.exe -m pip install --upgrade pip\n"
     ]
    }
   ],
   "source": [
    "!pip install -q websockets requests pandas"
   ]
  },
  {
   "cell_type": "markdown",
   "metadata": {},
   "source": [
    "## 2) Streaming (WebSocket)\n",
    "\n",
    "**Salida:** `../../data/stream_ws_YYYY-MM-DD.jsonl`"
   ]
  },
  {
   "cell_type": "code",
   "execution_count": 9,
   "metadata": {
    "id": "stream"
   },
   "outputs": [
    {
     "name": "stdout",
     "output_type": "stream",
     "text": [
      "/Users/didiergamboa/Documents/Tecnológico de Software/Cuatrimestres/2025 Q3 Septiembre-Diciembre/Fundamentos de Big Data/Proyecto Integrador - Fundamentos de Ingeniería de Datos/fundamentos-ingenieria-datos/notebooks/tutoriales/../../src/streaming/stream_dual_ws.py:8: DeprecationWarning: websockets.exceptions.InvalidStatusCode is deprecated\n",
      "  from websockets.exceptions import ConnectionClosed, InvalidStatusCode\n",
      "[DONE] Eventos: 150\n",
      "/Users/didiergamboa/Documents/Tecnológico de Software/Cuatrimestres/2025 Q3 Septiembre-Diciembre/Fundamentos de Big Data/Proyecto Integrador - Fundamentos de Ingeniería de Datos/fundamentos-ingenieria-datos/data/stream_ws_2025-09-24.jsonl\n"
     ]
    }
   ],
   "source": [
    "# Limita duración/eventos para la clase\n",
    "!WS_MAX_EVENTS=150 WS_MAX_SECONDS=120 python ../../src/streaming/stream_dual_ws.py"
   ]
  },
  {
   "cell_type": "markdown",
   "metadata": {},
   "source": [
    "## 3) Polling (HTTP)\n",
    "\n",
    "**Salida:** `../../data/poll_bitcoin_YYYY-MM-DD.jsonl`"
   ]
  },
  {
   "cell_type": "code",
   "execution_count": 10,
   "metadata": {
    "id": "poll"
   },
   "outputs": [
    {
     "name": "stdout",
     "output_type": "stream",
     "text": [
      "[POLL] 1/20 -> {'ts': '2025-09-24T21:04:40.311738+00:00', 'source': 'binance', 'instrument': 'BTCUSDT', 'price_usd': 113501.39}\n",
      "[POLL] 2/20 -> {'ts': '2025-09-24T21:04:45.582810+00:00', 'source': 'binance', 'instrument': 'BTCUSDT', 'price_usd': 113501.39}\n",
      "[POLL] 3/20 -> {'ts': '2025-09-24T21:04:50.851553+00:00', 'source': 'binance', 'instrument': 'BTCUSDT', 'price_usd': 113501.39}\n",
      "[POLL] 4/20 -> {'ts': '2025-09-24T21:04:56.124504+00:00', 'source': 'binance', 'instrument': 'BTCUSDT', 'price_usd': 113501.4}\n",
      "[POLL] 5/20 -> {'ts': '2025-09-24T21:05:01.408466+00:00', 'source': 'binance', 'instrument': 'BTCUSDT', 'price_usd': 113501.39}\n",
      "[POLL] 6/20 -> {'ts': '2025-09-24T21:05:06.697973+00:00', 'source': 'binance', 'instrument': 'BTCUSDT', 'price_usd': 113501.4}\n",
      "[POLL] 7/20 -> {'ts': '2025-09-24T21:05:12.298638+00:00', 'source': 'binance', 'instrument': 'BTCUSDT', 'price_usd': 113501.4}\n",
      "[POLL] 8/20 -> {'ts': '2025-09-24T21:05:17.569889+00:00', 'source': 'binance', 'instrument': 'BTCUSDT', 'price_usd': 113501.4}\n",
      "[POLL] 9/20 -> {'ts': '2025-09-24T21:05:22.868441+00:00', 'source': 'binance', 'instrument': 'BTCUSDT', 'price_usd': 113509.72}\n",
      "[POLL] 10/20 -> {'ts': '2025-09-24T21:05:28.152665+00:00', 'source': 'binance', 'instrument': 'BTCUSDT', 'price_usd': 113509.72}\n",
      "[POLL] 11/20 -> {'ts': '2025-09-24T21:05:33.436703+00:00', 'source': 'binance', 'instrument': 'BTCUSDT', 'price_usd': 113509.72}\n",
      "[POLL] 12/20 -> {'ts': '2025-09-24T21:05:38.705172+00:00', 'source': 'binance', 'instrument': 'BTCUSDT', 'price_usd': 113509.72}\n",
      "[POLL] 13/20 -> {'ts': '2025-09-24T21:05:43.979018+00:00', 'source': 'binance', 'instrument': 'BTCUSDT', 'price_usd': 113509.73}\n",
      "[POLL] 14/20 -> {'ts': '2025-09-24T21:05:49.252271+00:00', 'source': 'binance', 'instrument': 'BTCUSDT', 'price_usd': 113509.73}\n",
      "[POLL] 15/20 -> {'ts': '2025-09-24T21:05:54.512556+00:00', 'source': 'binance', 'instrument': 'BTCUSDT', 'price_usd': 113509.73}\n",
      "[POLL] 16/20 -> {'ts': '2025-09-24T21:05:59.811760+00:00', 'source': 'binance', 'instrument': 'BTCUSDT', 'price_usd': 113509.73}\n",
      "[POLL] 17/20 -> {'ts': '2025-09-24T21:06:05.078613+00:00', 'source': 'binance', 'instrument': 'BTCUSDT', 'price_usd': 113509.72}\n",
      "[POLL] 18/20 -> {'ts': '2025-09-24T21:06:10.351352+00:00', 'source': 'binance', 'instrument': 'BTCUSDT', 'price_usd': 113509.73}\n",
      "[POLL] 19/20 -> {'ts': '2025-09-24T21:06:15.629979+00:00', 'source': 'binance', 'instrument': 'BTCUSDT', 'price_usd': 113509.73}\n",
      "[POLL] 20/20 -> {'ts': '2025-09-24T21:06:20.896191+00:00', 'source': 'binance', 'instrument': 'BTCUSDT', 'price_usd': 113509.73}\n",
      "[DONE] Archivo: /Users/didiergamboa/Documents/Tecnológico de Software/Cuatrimestres/2025 Q3 Septiembre-Diciembre/Fundamentos de Big Data/Proyecto Integrador - Fundamentos de Ingeniería de Datos/fundamentos-ingenieria-datos/data/poll_binance_BTCUSDT_2025-09-24.jsonl\n"
     ]
    }
   ],
   "source": [
    "!python ../../src/streaming/poll_coincap_http.py"
   ]
  },
  {
   "cell_type": "markdown",
   "metadata": {},
   "source": [
    "## 4) Cargar y comparar en pandas\n",
    "Leemos ambos `.jsonl` y observamos diferencias de granularidad/latencia (aprox.)."
   ]
  },
  {
   "cell_type": "code",
   "execution_count": 1,
   "metadata": {
    "id": "compare"
   },
   "outputs": [
    {
     "ename": "ModuleNotFoundError",
     "evalue": "No module named 'pandas'",
     "output_type": "error",
     "traceback": [
      "\u001b[1;31m---------------------------------------------------------------------------\u001b[0m",
      "\u001b[1;31mModuleNotFoundError\u001b[0m                       Traceback (most recent call last)",
      "Cell \u001b[1;32mIn[1], line 2\u001b[0m\n\u001b[0;32m      1\u001b[0m \u001b[38;5;28;01mfrom\u001b[39;00m \u001b[38;5;21;01mpathlib\u001b[39;00m \u001b[38;5;28;01mimport\u001b[39;00m Path\n\u001b[1;32m----> 2\u001b[0m \u001b[38;5;28;01mimport\u001b[39;00m \u001b[38;5;21;01mpandas\u001b[39;00m \u001b[38;5;28;01mas\u001b[39;00m \u001b[38;5;21;01mpd\u001b[39;00m\n\u001b[0;32m      4\u001b[0m data_dir \u001b[38;5;241m=\u001b[39m Path(\u001b[38;5;124m\"\u001b[39m\u001b[38;5;124m../../data\u001b[39m\u001b[38;5;124m\"\u001b[39m)\n\u001b[0;32m      6\u001b[0m \u001b[38;5;66;03m# STREAM\u001b[39;00m\n",
      "\u001b[1;31mModuleNotFoundError\u001b[0m: No module named 'pandas'"
     ]
    }
   ],
   "source": [
    "from pathlib import Path\n",
    "import pandas as pd\n",
    "\n",
    "data_dir = Path(\"../../data\")\n",
    "\n",
    "# STREAM\n",
    "stream_file = sorted(data_dir.glob(\"stream_ws_*.jsonl\"))[-1]\n",
    "df_stream = pd.read_json(stream_file, lines=True)\n",
    "print(\"STREAM:\", stream_file)\n",
    "display(df_stream.head())\n",
    "\n",
    "# POLL \n",
    "poll_files = sorted(list(data_dir.glob(\"poll_binance_*.jsonl\")) + list(data_dir.glob(\"poll_coincap_*.jsonl\")))\n",
    "poll_file = poll_files[-1]\n",
    "df_poll = pd.read_json(poll_file, lines=True)\n",
    "print(\"POLL:\", poll_file)\n",
    "display(df_poll.head())\n"
   ]
  },
  {
   "cell_type": "markdown",
   "metadata": {},
   "source": [
    "## 5) Reflexión (respuestas cortas)\n",
    "**¿Quién tiene menor latencia?**  \n",
    "\n",
    "**¿Qué pasa si el stream se cae?** \n",
    "\n",
    "**¿Cuál genera más duplicados o huecos temporales?**\n"
   ]
  },
  {
   "cell_type": "markdown",
   "id": "6e28e336",
   "metadata": {},
   "source": []
  }
 ],
 "metadata": {
  "kernelspec": {
   "display_name": "Python 3",
   "language": "python",
   "name": "python3"
  },
  "language_info": {
   "codemirror_mode": {
    "name": "ipython",
    "version": 3
   },
   "file_extension": ".py",
   "mimetype": "text/x-python",
   "name": "python",
   "nbconvert_exporter": "python",
   "pygments_lexer": "ipython3",
   "version": "3.12.4"
  }
 },
 "nbformat": 4,
 "nbformat_minor": 5
}
