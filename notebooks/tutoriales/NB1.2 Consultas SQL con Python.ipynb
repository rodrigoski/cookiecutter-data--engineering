{
  "cells": [
    {
      "cell_type": "markdown",
      "id": "f8ba6749-ce1f-48c5-b54b-216cdd606b4c",
      "metadata": {
        "id": "f8ba6749-ce1f-48c5-b54b-216cdd606b4c"
      },
      "source": [
        "# Técnicas para el almacenamiento y consulta de datos estructurados"
      ]
    },
    {
      "cell_type": "markdown",
      "id": "ad0a2925-7b7b-4afc-b296-118da7641c2a",
      "metadata": {
        "id": "ad0a2925-7b7b-4afc-b296-118da7641c2a"
      },
      "source": [
        "Structured Query Language o SQL es un lenguaje de programación utilizado en la creación, administración y manipulación de bases de datos relacionales. Este es un lenguaje de alto nivel, por lo que su sintasxis es fácilmente entendible.\n",
        "\n",
        "Una base de base de datos relacional es una manera de almacenar y manipular datos. En este tipo de bases de datos, los datos se encuentran almacenados en forma de tablas. Cada columna tiene columnas, también conocidas como campos, que describen a los datos; y filas, también conocidas como registros, los cuales contienen datos.\n",
        "\n",
        "Cuando deseamos hacer una consulta de datos en una base de datos debemos enviar una serie de comandos al administrador de la base de datos (*database manager*), estos se conocen como *queries*. El administrador de base de datos recibe la consulta y realiza los cálculos indicados en la *query*, una vez completados devuelve los resultados en una forma tabular. Existen diferentes administradores de bases de datos, en esta sesión utilizaremos *sqlite*.\n",
        "\n",
        "A lo largo de este libreta exploraremos la información contenida en una base de datos empleando *queries* SQL a través de Python."
      ]
    },
    {
      "cell_type": "markdown",
      "id": "6a8ba757-afbd-48c5-b027-b1aec867d60e",
      "metadata": {
        "id": "6a8ba757-afbd-48c5-b027-b1aec867d60e"
      },
      "source": [
        "## Objetivos de Aprendizaje"
      ]
    },
    {
      "cell_type": "markdown",
      "id": "c1f54c4b-84fa-4032-b155-fedba5d1ca07",
      "metadata": {
        "id": "c1f54c4b-84fa-4032-b155-fedba5d1ca07"
      },
      "source": [
        "Al final de la lección, el participantes será capaz de:\n",
        "* Utilizar queries para extraer datos en bases de datos relacionales.\n",
        "* Realizar agrupamientos y agregaciones a partir de los datos para la creación de métricas.\n",
        "* Combinar datos de diferentes tablas."
      ]
    },
    {
      "cell_type": "markdown",
      "id": "78dce7e6-56a4-4a44-a09d-0ee6c0cf7bba",
      "metadata": {
        "id": "78dce7e6-56a4-4a44-a09d-0ee6c0cf7bba"
      },
      "source": [
        "## Contenido"
      ]
    },
    {
      "cell_type": "markdown",
      "id": "ca6ee15e-5ec1-466e-8d2d-672def7e2999",
      "metadata": {
        "id": "ca6ee15e-5ec1-466e-8d2d-672def7e2999"
      },
      "source": [
        "1. Acceso a los Datos con Queries.\n",
        "2. Agregaciones y Agrupamientos de Datos.\n",
        "3. Combinación de Tablas."
      ]
    },
    {
      "cell_type": "markdown",
      "id": "d5798c68-5319-4dc9-a7bb-02d7d9c265bd",
      "metadata": {
        "id": "d5798c68-5319-4dc9-a7bb-02d7d9c265bd"
      },
      "source": [
        "## 1. Acceso a los Datos con Queries"
      ]
    },
    {
      "cell_type": "markdown",
      "id": "bddcbdbd-cc28-45f5-ab83-a1c24dc60fb4",
      "metadata": {
        "id": "bddcbdbd-cc28-45f5-ab83-a1c24dc60fb4"
      },
      "source": [
        "A fines de la década de 1920 y principios de la de 1930, William Dyer, Frank Pabodie y Valentina Roerich dirigieron expediciones al Polo de Inaccesibilidad en el Pacífico Sur y luego a la Antártida. Hace unos años, sus expediciones fueron encontradas en un casillero de en la Universidad de Miskatonic[1](https://swcarpentry.github.io/sql-novice-survey/). Los datos de estas exploraciones se han guardado en `survey.db`.\n",
        "\n",
        "La base de datos está integrado por las siguientes tablas:\n",
        "* Person: Personas que tomaron lecturas, siendo `id` el identificador único de esa persona.\n",
        "\n",
        "|id\t|personal\t|family\n",
        "|--|--|--\n",
        "|dyer\t|William\t|Dyer\n",
        "|pb\t|Frank\t|Pabodie\n",
        "|lake\t|Anderson\t|Lake\n",
        "|roe\t|Valentina\t|Roerich\n",
        "|danforth\t|Frank\t|Danforth\n",
        "\n",
        "* Survey: Las medidas tomadas en cada ubicación precisa en estos sitios. Se identifican por el índice `taken`. El campo`quant` es la abreviatura de cantidad (*quantity*) e indica lo que se está midiendo. Los valores son `rad`, `sal` y `temp` que se refieren a 'radiación', 'salinidad' y 'temperatura', respectivamente.\n",
        "\n",
        "\n",
        "|taken\t|person\t|quant\t|reading\n",
        "|--|--|--|--\n",
        "|619\t|dyer\t|rad\t|9.82\n",
        "|619\t|dyer\t|sal\t|0.13\n",
        "|622\t|dyer\t|rad\t|7.8\n",
        "|622\t|dyer\t|sal\t|0.09\n",
        "\n",
        "\n",
        "* Site: Ubicaciones de los sitios donde se tomaron las lecturas.\n",
        "\n",
        "|name\t|lat\t|long\n",
        "|--|--|--\n",
        "|DR-1\t|-49.85\t|-128.57\n",
        "|DR-3\t|-47.15\t|-126.72\n",
        "|MSK-4\t|-48.87\t|-123.4\n",
        "\n",
        "* Visited: Identificación específica `id` de las ubicaciones precisas donde se tomaron las lecturas en los sitios y fechas.\n",
        "\n",
        "|id\t|site\t|dated\n",
        "|--|--|--\n",
        "|619\t|DR-1\t|1927-02-08\n",
        "|622\t|DR-1\t|1927-02-10\n",
        "|734\t|DR-3\t|1930-01-07\n",
        "|735\t|DR-3\t|1930-01-12\n",
        "|751\t|DR-3\t|1930-02-26"
      ]
    },
    {
      "cell_type": "markdown",
      "id": "d2d99091-5499-40bd-8688-3e8f651e4481",
      "metadata": {
        "id": "d2d99091-5499-40bd-8688-3e8f651e4481"
      },
      "source": [
        "### 1.1 Conexión a la Base de Datos"
      ]
    },
    {
      "cell_type": "markdown",
      "id": "9e4d1b7d-787e-4e4a-8337-fb8bf9a228da",
      "metadata": {
        "id": "9e4d1b7d-787e-4e4a-8337-fb8bf9a228da"
      },
      "source": [
        "Python provee una biblioteca estándar que permite conectarse al administrador de base de datos *sqlite*. De modo que simplemente es necesario importarla en nuestra libreta de trabajo."
      ]
    },
    {
      "cell_type": "code",
      "execution_count": null,
      "id": "78867077-5739-4eb3-8815-1297e91ad759",
      "metadata": {
        "id": "78867077-5739-4eb3-8815-1297e91ad759"
      },
      "outputs": [],
      "source": [
        "import sqlite3"
      ]
    },
    {
      "cell_type": "markdown",
      "id": "1a3fb8f4-453d-4c09-b6b9-db9aad158b6b",
      "metadata": {
        "id": "1a3fb8f4-453d-4c09-b6b9-db9aad158b6b"
      },
      "source": [
        "Una vez que hemos importado el módulo en nuestra libreta de trabajo, es necesario identificar la dirección en la cual se encuentra la base de dato para poder establecer la conexión.\n",
        "\n",
        "La conexión puede completarse con la propiedad `connect` de `sqlite3`. El comando `sqlite3.connect()` es el que se utiliza para establecer una conección. Simplemente se requiere pasar como parámetros la base de datos que se desea emplear."
      ]
    },
    {
      "cell_type": "code",
      "execution_count": null,
      "id": "2ed9b482-2c9c-4072-b94e-d09bd0e5e93a",
      "metadata": {
        "id": "2ed9b482-2c9c-4072-b94e-d09bd0e5e93a"
      },
      "outputs": [],
      "source": [
        "connection = sqlite3.connect(\"survey.db\")"
      ]
    },
    {
      "cell_type": "code",
      "execution_count": null,
      "id": "03ab80f6-33b0-457b-b7ee-9c7a2bf9f50f",
      "metadata": {
        "id": "03ab80f6-33b0-457b-b7ee-9c7a2bf9f50f",
        "outputId": "4293d3ec-4fee-4808-dfbe-5c2c16d8a513",
        "colab": {
          "base_uri": "https://localhost:8080/"
        }
      },
      "outputs": [
        {
          "output_type": "execute_result",
          "data": {
            "text/plain": [
              "sqlite3.Connection"
            ]
          },
          "metadata": {},
          "execution_count": 9
        }
      ],
      "source": [
        "type(connection)"
      ]
    },
    {
      "cell_type": "markdown",
      "id": "e4c01845-dc06-4028-b232-ce6a9ccc302b",
      "metadata": {
        "id": "e4c01845-dc06-4028-b232-ce6a9ccc302b"
      },
      "source": [
        "Si `sqlite3` no encuentra la base de datos a la que se está intentando acceder, entonces creará una bajo el nombre indicado; y la guardará en el directorio de trabajo.\n",
        "\n",
        "La interacción entre Python y SQLite3 se completará a través de los cursores. Estos son objetos de Python cuyos métodos permiten ejecutar comandos propios de SQL tales como búsquedas, actualizaciones, filtros, entre otros. Desde una perspectiva técnica, estos son punteros a una base de datos que realiza un seguimiento de las operaciones pendientes."
      ]
    },
    {
      "cell_type": "code",
      "execution_count": null,
      "id": "64bb90f4-72ab-4bec-8252-33b33c5f8b7b",
      "metadata": {
        "id": "64bb90f4-72ab-4bec-8252-33b33c5f8b7b"
      },
      "outputs": [],
      "source": [
        "cursor = connection.cursor()"
      ]
    },
    {
      "cell_type": "markdown",
      "id": "7ee1bc01-45b1-465d-b874-28b353cfc5b5",
      "metadata": {
        "id": "7ee1bc01-45b1-465d-b874-28b353cfc5b5"
      },
      "source": [
        "El método `cursos.execute()` puede emplearse para que el cursos solicite a la base de datos ejecutar una *query*. La *queyr*, escrita en SQL, debe pasarse al método anterior en formato de cadena de caracteres. En la siguiente celda se ejecuta la *query* `SELECT * FROM Person`, lo cual permitirá obtener todas las columnas de la tabla `Person`.\n",
        "\n",
        "La base de datos nos devuelve los resultados de la consulta en respuesta a la llamada `cursor.fetchall()`. Este resultado es una lista con una entrada para cada registro en el conjunto de resultados, si recorremos esa lista e imprimimos esas entradas de la lista, podemos ver que cada una es una tupla con un elemento para cada campo solicitado."
      ]
    },
    {
      "cell_type": "code",
      "execution_count": null,
      "id": "c6ef5ad7-c731-4b00-a40c-5406dc2f8b6a",
      "metadata": {
        "id": "c6ef5ad7-c731-4b00-a40c-5406dc2f8b6a",
        "outputId": "5742b24e-b79e-45f7-d675-b78aba887d8e",
        "colab": {
          "base_uri": "https://localhost:8080/"
        }
      },
      "outputs": [
        {
          "output_type": "stream",
          "name": "stdout",
          "text": [
            "('dyer', 'William', 'Dyer')\n",
            "('pb', 'Frank', 'Pabodie')\n",
            "('lake', 'Anderson', 'Lake')\n",
            "('roe', 'Valentina', 'Roerich')\n",
            "('danforth', 'Frank', 'Danforth')\n"
          ]
        }
      ],
      "source": [
        "cursor.execute(\"SELECT * FROM Person\")\n",
        "results = cursor.fetchall()\n",
        "for r in results:\n",
        "    print(r)"
      ]
    },
    {
      "cell_type": "markdown",
      "id": "243c9450-ad68-48e7-b846-e57a4d93c3ef",
      "metadata": {
        "id": "243c9450-ad68-48e7-b846-e57a4d93c3ef"
      },
      "source": [
        "Una vez que hemos terminado de trabajar con alguna base de datos específica, será necesario cerrar las conexiones establecidas."
      ]
    },
    {
      "cell_type": "code",
      "execution_count": null,
      "id": "bcb02c66-7a34-4547-a99c-1e1823a81b65",
      "metadata": {
        "id": "bcb02c66-7a34-4547-a99c-1e1823a81b65"
      },
      "outputs": [],
      "source": [
        "cursor.close()\n",
        "connection.close()"
      ]
    },
    {
      "cell_type": "markdown",
      "id": "63c22fcb-b86f-47bc-96a7-aaaeeeb7fc26",
      "metadata": {
        "id": "63c22fcb-b86f-47bc-96a7-aaaeeeb7fc26"
      },
      "source": [
        "### 3.2 Selección de Datos"
      ]
    },
    {
      "cell_type": "markdown",
      "id": "2d9cdc0e-0228-4a28-8784-fe6c325f9401",
      "metadata": {
        "id": "2d9cdc0e-0228-4a28-8784-fe6c325f9401"
      },
      "source": [
        "La query más básica en SQL permite la selección de una columna de una tabla específica, para ello será necesario:\n",
        "* indicar la columna que se desea obtener después de la palabra clave `SELECT`\n",
        "* indicar la tabla después de la palabra clave `FROM`\n",
        "\n",
        "De modo que si se desea seleccionar la columna `personal` de la tabla `Person` se emplearía la siguiente query:"
      ]
    },
    {
      "cell_type": "code",
      "execution_count": null,
      "id": "05c3c9b5-23c9-4114-b514-8ec83502d9aa",
      "metadata": {
        "id": "05c3c9b5-23c9-4114-b514-8ec83502d9aa"
      },
      "outputs": [],
      "source": [
        "connection = sqlite3.connect(\"survey.db\")\n",
        "cursor = connection.cursor()"
      ]
    },
    {
      "cell_type": "code",
      "execution_count": null,
      "id": "d6a55812-aca4-4926-9e94-6813a2bf0506",
      "metadata": {
        "id": "d6a55812-aca4-4926-9e94-6813a2bf0506"
      },
      "outputs": [],
      "source": [
        "query = \"\"\"\n",
        "        SELECT personal\n",
        "        FROM person\n",
        "        \"\"\""
      ]
    },
    {
      "cell_type": "code",
      "execution_count": null,
      "id": "0774c14e-c065-46fe-bcdb-3357092db143",
      "metadata": {
        "id": "0774c14e-c065-46fe-bcdb-3357092db143",
        "outputId": "f806e0d5-3e04-4fe8-c9e0-66ffae83cb7e",
        "colab": {
          "base_uri": "https://localhost:8080/"
        }
      },
      "outputs": [
        {
          "output_type": "stream",
          "name": "stdout",
          "text": [
            "('William',)\n",
            "('Frank',)\n",
            "('Anderson',)\n",
            "('Valentina',)\n",
            "('Frank',)\n"
          ]
        }
      ],
      "source": [
        "cursor.execute(query)\n",
        "results = cursor.fetchall()\n",
        "for r in results:\n",
        "    print(r)"
      ]
    },
    {
      "cell_type": "markdown",
      "id": "f899a358-ab54-4a90-8937-21916786f039",
      "metadata": {
        "id": "f899a358-ab54-4a90-8937-21916786f039"
      },
      "source": [
        "Las palabras clave `SELECT` y `FROM` se han colocado en mayúsculas. Sin embargo, SQL es insensible ante las mayúsculas y minúsculas, pero es útil desde el punto de vista de la lectura y estilo de programación.\n",
        "\n",
        "Si deseamos obtener más información, podemos añadir más columnas a la lista de campos después del `SELECT`."
      ]
    },
    {
      "cell_type": "code",
      "execution_count": null,
      "id": "cedb6639-8129-411b-8072-3c61d66c415b",
      "metadata": {
        "tags": [],
        "id": "cedb6639-8129-411b-8072-3c61d66c415b",
        "outputId": "2a58d293-db8d-4b31-db63-9001963a41c7",
        "colab": {
          "base_uri": "https://localhost:8080/"
        }
      },
      "outputs": [
        {
          "output_type": "stream",
          "name": "stdout",
          "text": [
            "('William', 'Dyer')\n",
            "('Frank', 'Pabodie')\n",
            "('Anderson', 'Lake')\n",
            "('Valentina', 'Roerich')\n",
            "('Frank', 'Danforth')\n"
          ]
        }
      ],
      "source": [
        "query = \"\"\"\n",
        "        SELECT personal, family\n",
        "        FROM Person\n",
        "        \"\"\"\n",
        "\n",
        "cursor.execute(query)\n",
        "results = cursor.fetchall()\n",
        "for r in results:\n",
        "    print(r)"
      ]
    },
    {
      "cell_type": "markdown",
      "id": "bbe844d3-49cb-40d2-87cd-6a5eabe3a1c3",
      "metadata": {
        "id": "bbe844d3-49cb-40d2-87cd-6a5eabe3a1c3"
      },
      "source": [
        "Si desea mostrar todas las columnas de una tabla, utilice el `*` después del `SELECT`."
      ]
    },
    {
      "cell_type": "code",
      "execution_count": null,
      "id": "6fb66b79-fc0b-470a-abcd-9f0cb1fc4b20",
      "metadata": {
        "id": "6fb66b79-fc0b-470a-abcd-9f0cb1fc4b20",
        "outputId": "6d536a6e-f558-4478-b343-26fe3e2508a8",
        "colab": {
          "base_uri": "https://localhost:8080/"
        }
      },
      "outputs": [
        {
          "output_type": "stream",
          "name": "stdout",
          "text": [
            "('dyer', 'William', 'Dyer')\n",
            "('pb', 'Frank', 'Pabodie')\n",
            "('lake', 'Anderson', 'Lake')\n",
            "('roe', 'Valentina', 'Roerich')\n",
            "('danforth', 'Frank', 'Danforth')\n"
          ]
        }
      ],
      "source": [
        "query = \"\"\"\n",
        "        SELECT *\n",
        "        FROM Person\n",
        "        \"\"\"\n",
        "\n",
        "cursor.execute(query)\n",
        "results = cursor.fetchall()\n",
        "for r in results:\n",
        "    print(r)"
      ]
    },
    {
      "cell_type": "markdown",
      "id": "89a4d0ed-c9d1-48b1-8faf-5d39c905903c",
      "metadata": {
        "id": "89a4d0ed-c9d1-48b1-8faf-5d39c905903c"
      },
      "source": [
        "La siguiente query permite acceder a las columnas `taken`, `quant` y `reading` de la tabla `Survey`."
      ]
    },
    {
      "cell_type": "code",
      "execution_count": null,
      "id": "291aadce-3b2f-4c67-af01-cf20dee4f940",
      "metadata": {
        "id": "291aadce-3b2f-4c67-af01-cf20dee4f940",
        "outputId": "4c7e4e60-e530-4bac-b0e2-7495982ab0d6",
        "colab": {
          "base_uri": "https://localhost:8080/"
        }
      },
      "outputs": [
        {
          "output_type": "stream",
          "name": "stdout",
          "text": [
            "(619, 'rad', 9.82)\n",
            "(619, 'sal', 0.13)\n",
            "(622, 'rad', 7.8)\n",
            "(622, 'sal', 0.09)\n",
            "(734, 'rad', 8.41)\n",
            "(734, 'sal', 0.05)\n",
            "(734, 'temp', -21.5)\n",
            "(735, 'rad', 7.22)\n",
            "(735, 'sal', 0.06)\n",
            "(735, 'temp', -26.0)\n",
            "(751, 'rad', 4.35)\n",
            "(751, 'temp', -18.5)\n",
            "(751, 'sal', 0.1)\n",
            "(752, 'rad', 2.19)\n",
            "(752, 'sal', 0.09)\n",
            "(752, 'temp', -16.0)\n",
            "(752, 'sal', 41.6)\n",
            "(837, 'rad', 1.46)\n",
            "(837, 'sal', 0.21)\n",
            "(837, 'sal', 22.5)\n",
            "(844, 'rad', 11.25)\n"
          ]
        }
      ],
      "source": [
        "query = \"\"\"\n",
        "        SELECT taken, quant, reading\n",
        "        FROM Survey\n",
        "        \"\"\"\n",
        "\n",
        "cursor.execute(query)\n",
        "results = cursor.fetchall()\n",
        "for r in results:\n",
        "    print(r)"
      ]
    },
    {
      "cell_type": "markdown",
      "id": "ee511476-6dda-45ca-a0c4-0eb410fbc638",
      "metadata": {
        "id": "ee511476-6dda-45ca-a0c4-0eb410fbc638"
      },
      "source": [
        "En algunas ocasiones, no deseamos ver todos los resultados. En este caso puede emplearse el comando `LIMIT`para limitar la cantidad de registros mostrados. Esto puede resultar particularmente útil cuando se está trabajando con conjunto de datos grandes."
      ]
    },
    {
      "cell_type": "code",
      "execution_count": null,
      "id": "fc747fd0-05c4-4052-971f-68ab77ea4de2",
      "metadata": {
        "id": "fc747fd0-05c4-4052-971f-68ab77ea4de2",
        "outputId": "497ddb67-04f6-4434-d957-286de84b571b",
        "colab": {
          "base_uri": "https://localhost:8080/"
        }
      },
      "outputs": [
        {
          "output_type": "stream",
          "name": "stdout",
          "text": [
            "(619, 'rad', 9.82)\n",
            "(619, 'sal', 0.13)\n",
            "(622, 'rad', 7.8)\n",
            "(622, 'sal', 0.09)\n",
            "(734, 'rad', 8.41)\n",
            "(734, 'sal', 0.05)\n",
            "(734, 'temp', -21.5)\n",
            "(735, 'rad', 7.22)\n",
            "(735, 'sal', 0.06)\n",
            "(735, 'temp', -26.0)\n"
          ]
        }
      ],
      "source": [
        "query = \"\"\"\n",
        "        SELECT taken, quant, reading\n",
        "        FROM Survey\n",
        "        LIMIT 10\n",
        "        \"\"\"\n",
        "\n",
        "cursor.execute(query)\n",
        "results = cursor.fetchall()\n",
        "for r in results:\n",
        "    print(r)"
      ]
    },
    {
      "cell_type": "markdown",
      "id": "a0453344-5df6-43e9-8c42-85165050a459",
      "metadata": {
        "id": "a0453344-5df6-43e9-8c42-85165050a459"
      },
      "source": [
        "Recordemos que la columna `quant` contiene la cantidad que fue medida. Anteriormente, se indicó que los tres elementos medidos son la radiación, la salinidad y la temperatura. Supongamos que no supieramos y quisieramos desplegar los valores únicos en esa columna. En tal caso podríamos utilizar `DISTINCT` después del comando `SELECT`. Efectivamente, observamos que los valores anteriormente indicados son los valores únicos en esa columna."
      ]
    },
    {
      "cell_type": "code",
      "execution_count": null,
      "id": "500ec531-a842-4574-b2d6-8779ea7e36b3",
      "metadata": {
        "id": "500ec531-a842-4574-b2d6-8779ea7e36b3",
        "outputId": "7d71550c-1a12-44de-adac-eefc60443f85",
        "colab": {
          "base_uri": "https://localhost:8080/"
        }
      },
      "outputs": [
        {
          "output_type": "stream",
          "name": "stdout",
          "text": [
            "('rad',)\n",
            "('sal',)\n",
            "('temp',)\n"
          ]
        }
      ],
      "source": [
        "query = \"\"\"\n",
        "        SELECT DISTINCT quant\n",
        "        FROM Survey\n",
        "        \"\"\"\n",
        "\n",
        "cursor.execute(query)\n",
        "results = cursor.fetchall()\n",
        "for r in results:\n",
        "    print(r)"
      ]
    },
    {
      "cell_type": "markdown",
      "id": "efa8ba3b-252e-477d-808e-3a37cf1f50bb",
      "metadata": {
        "id": "efa8ba3b-252e-477d-808e-3a37cf1f50bb"
      },
      "source": [
        "De igual manera, podemos añadir condiciones de filtrado a nuestra query, es decir, seleccionar aquellos registros que cumplen un criterio específico. En este caso se emplearía `WHERE`. El criterio a cumplir se coloca después de esta palabra clave.\n",
        "\n",
        "Por ejemplo, consideremos que queremos observar únicamente las mediciones de temperatura. En tal caso, procederíamos como sigue:"
      ]
    },
    {
      "cell_type": "code",
      "execution_count": null,
      "id": "82ee0e93-3b10-46eb-8fc2-72d681e71425",
      "metadata": {
        "id": "82ee0e93-3b10-46eb-8fc2-72d681e71425",
        "outputId": "63a6141d-f6bc-4af4-fe99-3f971189cb42",
        "colab": {
          "base_uri": "https://localhost:8080/"
        }
      },
      "outputs": [
        {
          "output_type": "stream",
          "name": "stdout",
          "text": [
            "(734, 'pb', 'temp', -21.5)\n",
            "(735, None, 'temp', -26.0)\n",
            "(751, 'pb', 'temp', -18.5)\n",
            "(752, 'lake', 'temp', -16.0)\n"
          ]
        }
      ],
      "source": [
        "query = \"\"\"\n",
        "        SELECT *\n",
        "        FROM Survey\n",
        "        WHERE quant = 'temp'\n",
        "        \"\"\"\n",
        "\n",
        "cursor.execute(query)\n",
        "results = cursor.fetchall()\n",
        "for r in results:\n",
        "    print(r)"
      ]
    },
    {
      "cell_type": "markdown",
      "id": "2a256f41-d0aa-4df7-87b7-0b270925d173",
      "metadata": {
        "id": "2a256f41-d0aa-4df7-87b7-0b270925d173"
      },
      "source": [
        "Podemos crear criterios de selección más sofisticados al combinar sentencias lógicas a través de los operadores lógicos `AND` y `OR`.\n",
        "\n",
        "Por ejemplo, consideremos que queremos las medidas de temperatura que son menos a -20.0 C."
      ]
    },
    {
      "cell_type": "code",
      "execution_count": null,
      "id": "c789365e-0517-40dd-9e6a-4785195817f6",
      "metadata": {
        "id": "c789365e-0517-40dd-9e6a-4785195817f6",
        "outputId": "1be45dec-74ab-4c8d-dd4e-7bca5b885fa4",
        "colab": {
          "base_uri": "https://localhost:8080/"
        }
      },
      "outputs": [
        {
          "output_type": "stream",
          "name": "stdout",
          "text": [
            "(734, 'pb', 'temp', -21.5)\n",
            "(735, None, 'temp', -26.0)\n"
          ]
        }
      ],
      "source": [
        "query = \"\"\"\n",
        "        SELECT *\n",
        "        FROM Survey\n",
        "        WHERE (quant = 'temp') AND (reading < -20)\n",
        "        \"\"\"\n",
        "\n",
        "cursor.execute(query)\n",
        "results = cursor.fetchall()\n",
        "for r in results:\n",
        "    print(r)"
      ]
    },
    {
      "cell_type": "markdown",
      "id": "3cb2bfd7-70d2-4fb7-b9a7-be85a49c10e0",
      "metadata": {
        "id": "3cb2bfd7-70d2-4fb7-b9a7-be85a49c10e0"
      },
      "source": [
        "Los paréntesis en la query anterior no son necesarios. Sin embargo, aportan facilidad de lectura en el código.\n",
        "\n",
        "Supongamos que deseamos obtener las medidas hechas por William Dyer (`dyer`) y Frank Pabodie (`pb`). Esto puede obtenerse utilizando el operador `OR`."
      ]
    },
    {
      "cell_type": "code",
      "execution_count": null,
      "id": "7e966ba7-08ce-493a-9f52-44b609d26379",
      "metadata": {
        "id": "7e966ba7-08ce-493a-9f52-44b609d26379",
        "outputId": "cfb65685-2f58-4881-fd78-1fed47cc259a",
        "colab": {
          "base_uri": "https://localhost:8080/",
          "height": 232
        }
      },
      "outputs": [
        {
          "output_type": "error",
          "ename": "NameError",
          "evalue": "ignored",
          "traceback": [
            "\u001b[0;31m---------------------------------------------------------------------------\u001b[0m",
            "\u001b[0;31mNameError\u001b[0m                                 Traceback (most recent call last)",
            "\u001b[0;32m<ipython-input-1-f2d6ee808659>\u001b[0m in \u001b[0;36m<module>\u001b[0;34m\u001b[0m\n\u001b[1;32m      5\u001b[0m         \"\"\"\n\u001b[1;32m      6\u001b[0m \u001b[0;34m\u001b[0m\u001b[0m\n\u001b[0;32m----> 7\u001b[0;31m \u001b[0mcursor\u001b[0m\u001b[0;34m.\u001b[0m\u001b[0mexecute\u001b[0m\u001b[0;34m(\u001b[0m\u001b[0mquery\u001b[0m\u001b[0;34m)\u001b[0m\u001b[0;34m\u001b[0m\u001b[0;34m\u001b[0m\u001b[0m\n\u001b[0m\u001b[1;32m      8\u001b[0m \u001b[0mresults\u001b[0m \u001b[0;34m=\u001b[0m \u001b[0mcursor\u001b[0m\u001b[0;34m.\u001b[0m\u001b[0mfetchall\u001b[0m\u001b[0;34m(\u001b[0m\u001b[0;34m)\u001b[0m\u001b[0;34m\u001b[0m\u001b[0;34m\u001b[0m\u001b[0m\n\u001b[1;32m      9\u001b[0m \u001b[0;32mfor\u001b[0m \u001b[0mr\u001b[0m \u001b[0;32min\u001b[0m \u001b[0mresults\u001b[0m\u001b[0;34m:\u001b[0m\u001b[0;34m\u001b[0m\u001b[0;34m\u001b[0m\u001b[0m\n",
            "\u001b[0;31mNameError\u001b[0m: name 'cursor' is not defined"
          ]
        }
      ],
      "source": [
        "query = \"\"\"\n",
        "        SELECT *\n",
        "        FROM Survey\n",
        "        WHERE (person = 'dyer') OR (person = 'pb')\n",
        "        \"\"\"\n",
        "\n",
        "cursor.execute(query)\n",
        "results = cursor.fetchall()\n",
        "for r in results:\n",
        "    print(r)"
      ]
    },
    {
      "cell_type": "markdown",
      "id": "5b9a7a73-f841-40d0-b490-89a32da004b9",
      "metadata": {
        "id": "5b9a7a73-f841-40d0-b490-89a32da004b9"
      },
      "source": [
        "Sin embargo, en el caso que tuvieramos muchos investigadores, esto sería impráctico. En este caso podemos utilizar `IN` para indicar la selección de aquellos valores que estén contenidos en una lista dada.\n",
        "\n",
        "De esta manera, la query anterior podría completarse como sigue."
      ]
    },
    {
      "cell_type": "code",
      "execution_count": null,
      "id": "8815dbcb-caae-4b50-bdce-240b7833a814",
      "metadata": {
        "id": "8815dbcb-caae-4b50-bdce-240b7833a814",
        "outputId": "318feaf0-2eeb-4f3e-fc50-b4910d263223",
        "colab": {
          "base_uri": "https://localhost:8080/"
        }
      },
      "outputs": [
        {
          "output_type": "stream",
          "name": "stdout",
          "text": [
            "(619, 'dyer', 'rad', 9.82)\n",
            "(619, 'dyer', 'sal', 0.13)\n",
            "(622, 'dyer', 'rad', 7.8)\n",
            "(622, 'dyer', 'sal', 0.09)\n",
            "(734, 'pb', 'rad', 8.41)\n",
            "(734, 'pb', 'temp', -21.5)\n",
            "(735, 'pb', 'rad', 7.22)\n",
            "(751, 'pb', 'rad', 4.35)\n",
            "(751, 'pb', 'temp', -18.5)\n"
          ]
        }
      ],
      "source": [
        "query = \"\"\"\n",
        "        SELECT *\n",
        "        FROM Survey\n",
        "        WHERE person IN ('dyer','pb')\n",
        "        \"\"\"\n",
        "\n",
        "cursor.execute(query)\n",
        "results = cursor.fetchall()\n",
        "for r in results:\n",
        "    print(r)"
      ]
    },
    {
      "cell_type": "markdown",
      "id": "b49ae7a9-1da8-45fd-a8ea-30d333c0c9a1",
      "metadata": {
        "id": "b49ae7a9-1da8-45fd-a8ea-30d333c0c9a1"
      },
      "source": [
        "Observemos los registros en la tabla `Visited`. Vemos como se tienen 8 registros, de los cuales uno tiene un valor nulo."
      ]
    },
    {
      "cell_type": "code",
      "execution_count": null,
      "id": "ecd1a5fd-320b-476f-995a-6d20f8d5fd52",
      "metadata": {
        "id": "ecd1a5fd-320b-476f-995a-6d20f8d5fd52",
        "outputId": "e161110a-b4d1-4cff-d499-0f395dbc1779",
        "colab": {
          "base_uri": "https://localhost:8080/"
        }
      },
      "outputs": [
        {
          "output_type": "stream",
          "name": "stdout",
          "text": [
            "(619, 'DR-1', '1927-02-08')\n",
            "(622, 'DR-1', '1927-02-10')\n",
            "(734, 'DR-3', '1930-01-07')\n",
            "(735, 'DR-3', '1930-01-12')\n",
            "(751, 'DR-3', '1930-02-26')\n",
            "(752, 'DR-3', None)\n",
            "(837, 'MSK-4', '1932-01-14')\n",
            "(844, 'DR-1', '1932-03-22')\n"
          ]
        }
      ],
      "source": [
        "query = \"\"\"\n",
        "        SELECT *\n",
        "        FROM Visited\n",
        "        \"\"\"\n",
        "\n",
        "cursor.execute(query)\n",
        "results = cursor.fetchall()\n",
        "for r in results:\n",
        "    print(r)"
      ]
    },
    {
      "cell_type": "markdown",
      "id": "183c2923-1750-4866-a043-c42791e53147",
      "metadata": {
        "id": "183c2923-1750-4866-a043-c42791e53147"
      },
      "source": [
        "En ocasiones, las columnas de fecha ya tienen un forma apropiado dentro de las bases de datos y la información no está únicamente guardada en forma de cadenas de caracteres. Debido a esto, es posible aplicar directamente filtros respectando la estructura de las mismas. A continuación se seleccionan las visitas que son posteriores al primero de enero de 1930."
      ]
    },
    {
      "cell_type": "code",
      "execution_count": null,
      "id": "fc24337e-caab-477e-b0a3-f91a20d27539",
      "metadata": {
        "id": "fc24337e-caab-477e-b0a3-f91a20d27539",
        "outputId": "0207f921-7f1f-458f-d8df-98e0b0b9723d",
        "colab": {
          "base_uri": "https://localhost:8080/"
        }
      },
      "outputs": [
        {
          "output_type": "stream",
          "name": "stdout",
          "text": [
            "(734, 'DR-3', '1930-01-07')\n",
            "(735, 'DR-3', '1930-01-12')\n",
            "(751, 'DR-3', '1930-02-26')\n",
            "(837, 'MSK-4', '1932-01-14')\n",
            "(844, 'DR-1', '1932-03-22')\n"
          ]
        }
      ],
      "source": [
        "query = \"\"\"\n",
        "        SELECT *\n",
        "        FROM Visited\n",
        "        WHERE dated > '1930-01-01'\n",
        "        \"\"\"\n",
        "\n",
        "cursor.execute(query)\n",
        "results = cursor.fetchall()\n",
        "for r in results:\n",
        "    print(r)"
      ]
    },
    {
      "cell_type": "markdown",
      "id": "ae93fa25-d363-487b-8a96-83b788713de1",
      "metadata": {
        "id": "ae93fa25-d363-487b-8a96-83b788713de1"
      },
      "source": [
        "Supongamos que queremos seleccionar los valores válidos, es decir, aquellos cuyo valor sea diferentes a nulo. Esto puede completarse considerando que los valores nulos se identifican con `NULL`. Sin embargo, los filtros empleando `date = NULL` o `date != NULL` no funcionarán. En este caso se debe utilizar la prueba especial `IS NULL` o `IS NOT NULL`."
      ]
    },
    {
      "cell_type": "code",
      "execution_count": null,
      "id": "e63718e8-230b-46c1-b234-abb31b72d5e7",
      "metadata": {
        "id": "e63718e8-230b-46c1-b234-abb31b72d5e7",
        "outputId": "24e698af-c987-4158-831b-c08d732b856e",
        "colab": {
          "base_uri": "https://localhost:8080/"
        }
      },
      "outputs": [
        {
          "output_type": "stream",
          "name": "stdout",
          "text": [
            "(619, 'DR-1', '1927-02-08')\n",
            "(622, 'DR-1', '1927-02-10')\n",
            "(734, 'DR-3', '1930-01-07')\n",
            "(735, 'DR-3', '1930-01-12')\n",
            "(751, 'DR-3', '1930-02-26')\n",
            "(837, 'MSK-4', '1932-01-14')\n",
            "(844, 'DR-1', '1932-03-22')\n"
          ]
        }
      ],
      "source": [
        "query = \"\"\"\n",
        "        SELECT *\n",
        "        FROM Visited\n",
        "        WHERE dated IS NOT null\n",
        "        \"\"\"\n",
        "\n",
        "cursor.execute(query)\n",
        "results = cursor.fetchall()\n",
        "for r in results:\n",
        "    print(r)"
      ]
    },
    {
      "cell_type": "code",
      "execution_count": null,
      "id": "a309f6f8-0f23-42ef-bd55-8545935dd5d4",
      "metadata": {
        "id": "a309f6f8-0f23-42ef-bd55-8545935dd5d4",
        "outputId": "4a04120d-920a-4621-9123-63eebfe56eb4",
        "colab": {
          "base_uri": "https://localhost:8080/"
        }
      },
      "outputs": [
        {
          "output_type": "stream",
          "name": "stdout",
          "text": [
            "(752, 'DR-3', None)\n"
          ]
        }
      ],
      "source": [
        "query = \"\"\"\n",
        "        SELECT *\n",
        "        FROM Visited\n",
        "        WHERE dated IS null\n",
        "        \"\"\"\n",
        "\n",
        "cursor.execute(query)\n",
        "results = cursor.fetchall()\n",
        "for r in results:\n",
        "    print(r)"
      ]
    },
    {
      "cell_type": "markdown",
      "id": "57bfbfce-2906-4f39-9b5b-e621ac4c6cfe",
      "metadata": {
        "id": "57bfbfce-2906-4f39-9b5b-e621ac4c6cfe"
      },
      "source": [
        "### 3.3 Ordenamiento"
      ]
    },
    {
      "cell_type": "markdown",
      "id": "151c4d5f-bfae-4fb7-b326-ba18313d107c",
      "metadata": {
        "id": "151c4d5f-bfae-4fb7-b326-ba18313d107c"
      },
      "source": [
        "Los resultados de las queries pueden ordenarse utilizando `ORDER BY`. Por ejemplo, anteriormente se había obtenido únicamente las mediciones relacionadas con la temperature de la tabla `Survey`. Esta misma query puede presentarse, pero ahora con los valores de temperatura ordenados de forma creciente."
      ]
    },
    {
      "cell_type": "code",
      "execution_count": null,
      "id": "4d6e1e36-7077-4a2b-9b70-67406e018912",
      "metadata": {
        "id": "4d6e1e36-7077-4a2b-9b70-67406e018912",
        "outputId": "52b3059a-bf69-4fb9-fc84-a0707169cec1",
        "colab": {
          "base_uri": "https://localhost:8080/"
        }
      },
      "outputs": [
        {
          "output_type": "stream",
          "name": "stdout",
          "text": [
            "(735, None, 'temp', -26.0)\n",
            "(734, 'pb', 'temp', -21.5)\n",
            "(751, 'pb', 'temp', -18.5)\n",
            "(752, 'lake', 'temp', -16.0)\n"
          ]
        }
      ],
      "source": [
        "query = \"\"\"\n",
        "        SELECT *\n",
        "        FROM Survey\n",
        "        WHERE quant = 'temp'\n",
        "        ORDER BY reading\n",
        "        \"\"\"\n",
        "\n",
        "cursor.execute(query)\n",
        "results = cursor.fetchall()\n",
        "for r in results:\n",
        "    print(r)"
      ]
    },
    {
      "cell_type": "markdown",
      "id": "529fb574-50cb-4cb8-8487-2d0170f71c87",
      "metadata": {
        "id": "529fb574-50cb-4cb8-8487-2d0170f71c87"
      },
      "source": [
        "Por defecto, el ordenamiento se hace de forma ascendente. El orden puede indicarse a través de los argumentos `ASC` y `DESC` para ascendente y descendente, respectivamente."
      ]
    },
    {
      "cell_type": "code",
      "execution_count": null,
      "id": "593d10a4-2980-420f-bb7b-f575e50dd676",
      "metadata": {
        "id": "593d10a4-2980-420f-bb7b-f575e50dd676",
        "outputId": "067f7720-efc8-4262-c304-ab1476eacae4",
        "colab": {
          "base_uri": "https://localhost:8080/"
        }
      },
      "outputs": [
        {
          "output_type": "stream",
          "name": "stdout",
          "text": [
            "(735, None, 'temp', -26.0)\n",
            "(734, 'pb', 'temp', -21.5)\n",
            "(751, 'pb', 'temp', -18.5)\n",
            "(752, 'lake', 'temp', -16.0)\n"
          ]
        }
      ],
      "source": [
        "query = \"\"\"\n",
        "        SELECT *\n",
        "        FROM Survey\n",
        "        WHERE quant = 'temp'\n",
        "        ORDER BY reading ASC\n",
        "        \"\"\"\n",
        "\n",
        "cursor.execute(query)\n",
        "results = cursor.fetchall()\n",
        "for r in results:\n",
        "    print(r)"
      ]
    },
    {
      "cell_type": "code",
      "execution_count": null,
      "id": "3ae2bac8-cab0-45d4-84ca-41e7ea0aadbc",
      "metadata": {
        "id": "3ae2bac8-cab0-45d4-84ca-41e7ea0aadbc",
        "outputId": "98e44cb4-93fb-4ad0-b5cb-0985fb223e8e",
        "colab": {
          "base_uri": "https://localhost:8080/"
        }
      },
      "outputs": [
        {
          "output_type": "stream",
          "name": "stdout",
          "text": [
            "(752, 'lake', 'temp', -16.0)\n",
            "(751, 'pb', 'temp', -18.5)\n",
            "(734, 'pb', 'temp', -21.5)\n",
            "(735, None, 'temp', -26.0)\n"
          ]
        }
      ],
      "source": [
        "query = \"\"\"\n",
        "        SELECT *\n",
        "        FROM Survey\n",
        "        WHERE quant = 'temp'\n",
        "        ORDER BY reading DESC\n",
        "        \"\"\"\n",
        "\n",
        "cursor.execute(query)\n",
        "results = cursor.fetchall()\n",
        "for r in results:\n",
        "    print(r)"
      ]
    },
    {
      "cell_type": "markdown",
      "id": "7a1ddb8a-6332-4d61-a9e8-7bcf0f758436",
      "metadata": {
        "id": "7a1ddb8a-6332-4d61-a9e8-7bcf0f758436"
      },
      "source": [
        "De igual manera podemos order considerando varios campos. Por ejemplo, supongamos que queremos ordenar los nombres de los científicos de forma alfabética contemplando primero el nombre (`personal`) y luego el apellido (`family`). En tal caso, la query sería como sigue."
      ]
    },
    {
      "cell_type": "code",
      "execution_count": null,
      "id": "f60029ff-42d7-4e13-ba59-cc3b85be301f",
      "metadata": {
        "id": "f60029ff-42d7-4e13-ba59-cc3b85be301f",
        "outputId": "9f54a816-bb84-4b77-aece-ca6fff980361",
        "colab": {
          "base_uri": "https://localhost:8080/"
        }
      },
      "outputs": [
        {
          "output_type": "stream",
          "name": "stdout",
          "text": [
            "('Anderson', 'Lake')\n",
            "('Frank', 'Danforth')\n",
            "('Frank', 'Pabodie')\n",
            "('Valentina', 'Roerich')\n",
            "('William', 'Dyer')\n"
          ]
        }
      ],
      "source": [
        "query = \"\"\"\n",
        "        SELECT personal, family\n",
        "        FROM Person\n",
        "        ORDER BY personal, family\n",
        "        \"\"\"\n",
        "\n",
        "cursor.execute(query)\n",
        "results = cursor.fetchall()\n",
        "for r in results:\n",
        "    print(r)"
      ]
    },
    {
      "cell_type": "markdown",
      "id": "b5af457e-9542-4c0c-9c31-ecaf9a2dc589",
      "metadata": {
        "id": "b5af457e-9542-4c0c-9c31-ecaf9a2dc589"
      },
      "source": [
        "Las columnas empleadas en el ordenamiento, no tienen que seguir el mismo criterio de crecimiento."
      ]
    },
    {
      "cell_type": "code",
      "execution_count": null,
      "id": "efc89bcc-9ac2-48a3-ace5-e5148fd143b9",
      "metadata": {
        "id": "efc89bcc-9ac2-48a3-ace5-e5148fd143b9",
        "outputId": "9d7bc534-b653-47f9-fca8-20d77a3f4ee6",
        "colab": {
          "base_uri": "https://localhost:8080/"
        }
      },
      "outputs": [
        {
          "output_type": "stream",
          "name": "stdout",
          "text": [
            "('Anderson', 'Lake')\n",
            "('Frank', 'Pabodie')\n",
            "('Frank', 'Danforth')\n",
            "('Valentina', 'Roerich')\n",
            "('William', 'Dyer')\n"
          ]
        }
      ],
      "source": [
        "query = \"\"\"\n",
        "        SELECT personal, family\n",
        "        FROM Person\n",
        "        ORDER BY personal ASC, family DESC\n",
        "        \"\"\"\n",
        "\n",
        "cursor.execute(query)\n",
        "results = cursor.fetchall()\n",
        "for r in results:\n",
        "    print(r)"
      ]
    },
    {
      "cell_type": "markdown",
      "id": "7be13173-a2d2-4a5f-8b9e-9c5f5f43065b",
      "metadata": {
        "id": "7be13173-a2d2-4a5f-8b9e-9c5f5f43065b"
      },
      "source": [
        "De hecho, ¡no se requiere devolver una columna que ha sido utilizada para ordenar una tabla! En la siguiente query, los datos son ordenados bajo el criterio anteriormente descrito, pero únicamente se devuelve el `id`."
      ]
    },
    {
      "cell_type": "code",
      "execution_count": null,
      "id": "ddcf4a04-547f-45cd-8def-5bf2540b0f58",
      "metadata": {
        "id": "ddcf4a04-547f-45cd-8def-5bf2540b0f58",
        "outputId": "901589a9-064a-4dea-df3d-931722f889a8",
        "colab": {
          "base_uri": "https://localhost:8080/"
        }
      },
      "outputs": [
        {
          "output_type": "stream",
          "name": "stdout",
          "text": [
            "('lake',)\n",
            "('pb',)\n",
            "('danforth',)\n",
            "('roe',)\n",
            "('dyer',)\n"
          ]
        }
      ],
      "source": [
        "query = \"\"\"\n",
        "        SELECT id\n",
        "        FROM Person\n",
        "        ORDER BY personal ASC, family DESC\n",
        "        \"\"\"\n",
        "\n",
        "cursor.execute(query)\n",
        "results = cursor.fetchall()\n",
        "for r in results:\n",
        "    print(r)"
      ]
    },
    {
      "cell_type": "markdown",
      "id": "d86e5aef-aed7-4e95-b024-abd4fa1779a5",
      "metadata": {
        "id": "d86e5aef-aed7-4e95-b024-abd4fa1779a5"
      },
      "source": [
        "El ejercicio anterior nos hace reflexionar lo siguiente. El orden en el cual las clausulas son escritas usualmente es `SELECT`, `FROM`, `WHERE`y `ORDER BY`. Sin embargo, este no es el orden en que se ejecutan. En este caso en particular primero se realiza el filtrado de las columnas de acuerdo al `WHERE`, posteriormente se realiza el ordenamiento `ORDER BY` y finalmente se despliegan las columnas o expresiones indicadas en `SELECT`."
      ]
    },
    {
      "cell_type": "markdown",
      "id": "9bbbdabf-efb8-412b-8e6a-35e9440b683c",
      "metadata": {
        "id": "9bbbdabf-efb8-412b-8e6a-35e9440b683c"
      },
      "source": [
        "## 2. Agregaciones y Agrupamiento de Datos"
      ]
    },
    {
      "cell_type": "markdown",
      "id": "4fac43ad-5d8f-4dff-87ab-38caf539da25",
      "metadata": {
        "id": "4fac43ad-5d8f-4dff-87ab-38caf539da25"
      },
      "source": [
        "### 2.1 Cálculo de Nuevos Valores"
      ]
    },
    {
      "cell_type": "markdown",
      "id": "45115c48-0a30-4c2c-843d-8b49a259b179",
      "metadata": {
        "id": "45115c48-0a30-4c2c-843d-8b49a259b179"
      },
      "source": [
        "La temperatura en la tabla `Survey` se encuentra en Farenheit. Consideremos que deseamos crear una nueva columna con los valores convertidos a Celsius. Esto puede completarse como sigue."
      ]
    },
    {
      "cell_type": "code",
      "execution_count": null,
      "id": "95d0e7b2-9a61-44df-807a-aae9def42be8",
      "metadata": {
        "id": "95d0e7b2-9a61-44df-807a-aae9def42be8",
        "outputId": "a64ac092-3a43-43ce-e9ff-168f6550c055",
        "colab": {
          "base_uri": "https://localhost:8080/"
        }
      },
      "outputs": [
        {
          "output_type": "stream",
          "name": "stdout",
          "text": [
            "(734, -29.72222222222222)\n",
            "(735, -32.22222222222222)\n",
            "(751, -28.055555555555557)\n",
            "(752, -26.666666666666668)\n"
          ]
        }
      ],
      "source": [
        "query = \"\"\"\n",
        "        SELECT taken, 5 * (reading - 32) / 9\n",
        "        FROM Survey\n",
        "        WHERE quant = 'temp'\n",
        "        \"\"\"\n",
        "\n",
        "cursor.execute(query)\n",
        "results = cursor.fetchall()\n",
        "for r in results:\n",
        "    print(r)"
      ]
    },
    {
      "cell_type": "markdown",
      "id": "e7926095-f60c-458c-98a5-cecf91f4634c",
      "metadata": {
        "id": "e7926095-f60c-458c-98a5-cecf91f4634c"
      },
      "source": [
        "Sin embargo, observamos que se tienen muchos decimales en los valores de la temperatura en Celsius. Utilicemos `ROUND` para indicar únicamente 2 posiciones decimales."
      ]
    },
    {
      "cell_type": "code",
      "execution_count": null,
      "id": "096ef69b-c0a6-4f46-b498-88c47c56f80a",
      "metadata": {
        "id": "096ef69b-c0a6-4f46-b498-88c47c56f80a",
        "outputId": "1ae66973-03a6-4c6e-c19b-afb2dd181b0b",
        "colab": {
          "base_uri": "https://localhost:8080/"
        }
      },
      "outputs": [
        {
          "output_type": "stream",
          "name": "stdout",
          "text": [
            "(734, -29.72)\n",
            "(735, -32.22)\n",
            "(751, -28.06)\n",
            "(752, -26.67)\n"
          ]
        }
      ],
      "source": [
        "query = \"\"\"\n",
        "        SELECT taken, ROUND(5 * (reading - 32) / 9, 2)\n",
        "        FROM Survey\n",
        "        WHERE quant = 'temp'\n",
        "        \"\"\"\n",
        "\n",
        "cursor.execute(query)\n",
        "results = cursor.fetchall()\n",
        "for r in results:\n",
        "    print(r)"
      ]
    },
    {
      "cell_type": "markdown",
      "id": "3262c813-3d7b-4459-8185-ba1acf1b3970",
      "metadata": {
        "id": "3262c813-3d7b-4459-8185-ba1acf1b3970"
      },
      "source": [
        "SQL nos permite renombrar los campos indicando un pseudónimo mediante `AS`. De modo que es posible indicar explícitamente que la temperatura se encuentra en celsius."
      ]
    },
    {
      "cell_type": "code",
      "execution_count": null,
      "id": "bdcc76b3-891e-4828-9f72-baec5208ba2b",
      "metadata": {
        "id": "bdcc76b3-891e-4828-9f72-baec5208ba2b",
        "outputId": "96c5a450-ab6e-4e77-dc24-a0dc03bb65a8",
        "colab": {
          "base_uri": "https://localhost:8080/"
        }
      },
      "outputs": [
        {
          "output_type": "stream",
          "name": "stdout",
          "text": [
            "(734, -29.72)\n",
            "(735, -32.22)\n",
            "(751, -28.06)\n",
            "(752, -26.67)\n"
          ]
        }
      ],
      "source": [
        "query = \"\"\"\n",
        "        SELECT taken, ROUND(5 * (reading - 32) / 9, 2) AS Celsius\n",
        "        FROM Survey\n",
        "        WHERE quant = 'temp'\n",
        "        \"\"\"\n",
        "\n",
        "cursor.execute(query)\n",
        "results = cursor.fetchall()\n",
        "for r in results:\n",
        "    print(r)"
      ]
    },
    {
      "cell_type": "markdown",
      "id": "bd3f9dd0-4de0-4061-8d7c-0ff2811238ce",
      "metadata": {
        "id": "bd3f9dd0-4de0-4061-8d7c-0ff2811238ce"
      },
      "source": [
        "Por otro lado, supongamos que queremos unir `personal` con `family` para obtener el nombre completo de los científicos. Esto puede completarse utilizando el operador de concatenación `||`."
      ]
    },
    {
      "cell_type": "code",
      "execution_count": null,
      "id": "5f89b9f0-5284-49b1-afdd-8bcda4bdfbd6",
      "metadata": {
        "id": "5f89b9f0-5284-49b1-afdd-8bcda4bdfbd6",
        "outputId": "2f88ba53-dd81-4903-dfd5-ef4a21f6ec27",
        "colab": {
          "base_uri": "https://localhost:8080/"
        }
      },
      "outputs": [
        {
          "output_type": "stream",
          "name": "stdout",
          "text": [
            "('William Dyer',)\n",
            "('Frank Pabodie',)\n",
            "('Anderson Lake',)\n",
            "('Valentina Roerich',)\n",
            "('Frank Danforth',)\n"
          ]
        }
      ],
      "source": [
        "query = \"\"\"\n",
        "        SELECT personal || ' ' || family\n",
        "        FROM Person;\n",
        "        \"\"\"\n",
        "\n",
        "cursor.execute(query)\n",
        "results = cursor.fetchall()\n",
        "for r in results:\n",
        "    print(r)"
      ]
    },
    {
      "cell_type": "markdown",
      "id": "5c92200f-a412-49f8-ad4b-0026b13bccac",
      "metadata": {
        "id": "5c92200f-a412-49f8-ad4b-0026b13bccac"
      },
      "source": [
        "### 2.2 Agregaciones"
      ]
    },
    {
      "cell_type": "markdown",
      "id": "c86caa78-5c35-49f8-89ae-1c3e9f4ae451",
      "metadata": {
        "id": "c86caa78-5c35-49f8-89ae-1c3e9f4ae451"
      },
      "source": [
        "Las agregaciones nos permiten el cálculo de valores combinados en grupos.\n",
        "\n",
        "Por ejemplo, se ha utilizado `COUNT` en la siguiente query para realizar el cálculo de la cantidad de registros en las mediciones de la tabla `Survey`."
      ]
    },
    {
      "cell_type": "code",
      "execution_count": null,
      "id": "d73cb6c3-9a7e-4bfb-9ca2-6cfc8f973349",
      "metadata": {
        "id": "d73cb6c3-9a7e-4bfb-9ca2-6cfc8f973349",
        "outputId": "7ab49338-a914-4489-849c-62a510f0fb7a",
        "colab": {
          "base_uri": "https://localhost:8080/"
        }
      },
      "outputs": [
        {
          "output_type": "stream",
          "name": "stdout",
          "text": [
            "(21,)\n"
          ]
        }
      ],
      "source": [
        "query = \"\"\"\n",
        "        SELECT COUNT(*)\n",
        "        FROM Survey\n",
        "        \"\"\"\n",
        "\n",
        "cursor.execute(query)\n",
        "results = cursor.fetchall()\n",
        "for r in results:\n",
        "    print(r)"
      ]
    },
    {
      "cell_type": "markdown",
      "id": "aceec53a-8c2e-4694-b30f-9d9968e55f66",
      "metadata": {
        "id": "aceec53a-8c2e-4694-b30f-9d9968e55f66"
      },
      "source": [
        "¿Cuántos registros corresponden a la temperatura y cuál es su valor promedio? Esto puede resolverse como sigue."
      ]
    },
    {
      "cell_type": "code",
      "execution_count": null,
      "id": "43e8861c-d3c9-42b8-8561-1b0557ebddaa",
      "metadata": {
        "id": "43e8861c-d3c9-42b8-8561-1b0557ebddaa",
        "outputId": "e49f8bf4-896e-40cc-c370-292bf3ac1a01",
        "colab": {
          "base_uri": "https://localhost:8080/"
        }
      },
      "outputs": [
        {
          "output_type": "stream",
          "name": "stdout",
          "text": [
            "(4, -20.5)\n"
          ]
        }
      ],
      "source": [
        "query = \"\"\"\n",
        "        SELECT COUNT(reading), AVG(reading)\n",
        "        FROM Survey\n",
        "        WHERE quant = 'temp'\n",
        "        \"\"\"\n",
        "\n",
        "cursor.execute(query)\n",
        "results = cursor.fetchall()\n",
        "for r in results:\n",
        "    print(r)"
      ]
    },
    {
      "cell_type": "markdown",
      "id": "37df72ac-c2fb-42d3-aba4-cbc8ab3634a6",
      "metadata": {
        "id": "37df72ac-c2fb-42d3-aba4-cbc8ab3634a6"
      },
      "source": [
        "Existen otros métodos de agregación en SQL como `MAX`, `MIN` y `AVG`. Los valores mínimos y máximos de las fechas en que se hicieron las visitas se obtienen de la siguiente manera."
      ]
    },
    {
      "cell_type": "code",
      "execution_count": null,
      "id": "fedcd1f6-457d-4ad7-aaed-c50a7b83164e",
      "metadata": {
        "id": "fedcd1f6-457d-4ad7-aaed-c50a7b83164e",
        "outputId": "916b1a7c-d488-4d73-fba8-c51aa426a19a",
        "colab": {
          "base_uri": "https://localhost:8080/"
        }
      },
      "outputs": [
        {
          "output_type": "stream",
          "name": "stdout",
          "text": [
            "('1927-02-08', '1932-03-22')\n"
          ]
        }
      ],
      "source": [
        "query = \"\"\"\n",
        "        SELECT MIN(dated), MAX(dated)\n",
        "        FROM Visited\n",
        "        \"\"\"\n",
        "\n",
        "cursor.execute(query)\n",
        "results = cursor.fetchall()\n",
        "for r in results:\n",
        "    print(r)"
      ]
    },
    {
      "cell_type": "markdown",
      "id": "af8ca06f-32c0-46a9-b17d-efab4dfe2989",
      "metadata": {
        "id": "af8ca06f-32c0-46a9-b17d-efab4dfe2989"
      },
      "source": [
        "### 3.3 Agrupaciones"
      ]
    },
    {
      "cell_type": "markdown",
      "id": "43f2b06b-9278-4750-8508-b59dd5d03902",
      "metadata": {
        "id": "43f2b06b-9278-4750-8508-b59dd5d03902"
      },
      "source": [
        "Considera que se desea obtener el promedo de las mediciones de temperatura hecha por cada científico. En este caso será necesario utilizar `GROUP BY`. Este funciona de manera análoga al discutido anteriormente en Pandas: agrupa los registros que poseen valores igualesde una columna específica. Una vez que los elementos han sido agrupados, es posible agregar las columnas restantes."
      ]
    },
    {
      "cell_type": "code",
      "execution_count": null,
      "id": "b25caa12-0e3b-4f3e-a723-2dd9d237fe27",
      "metadata": {
        "id": "b25caa12-0e3b-4f3e-a723-2dd9d237fe27",
        "outputId": "1925d9b9-4eb0-4ec0-bb71-ca06cceec68a",
        "colab": {
          "base_uri": "https://localhost:8080/"
        }
      },
      "outputs": [
        {
          "output_type": "stream",
          "name": "stdout",
          "text": [
            "('pb', -21.5)\n",
            "(None, -26.0)\n",
            "('pb', -18.5)\n",
            "('lake', -16.0)\n"
          ]
        }
      ],
      "source": [
        "query = \"\"\"\n",
        "        SELECT person, reading\n",
        "        FROM Survey\n",
        "        WHERE quant = 'temp'\n",
        "        \"\"\"\n",
        "\n",
        "cursor.execute(query)\n",
        "results = cursor.fetchall()\n",
        "for r in results:\n",
        "    print(r)"
      ]
    },
    {
      "cell_type": "markdown",
      "id": "fe8d732c-fa2e-49c3-9f12-910328216e0c",
      "metadata": {
        "id": "fe8d732c-fa2e-49c3-9f12-910328216e0c"
      },
      "source": [
        "A continuación se tiene una query que obtiene el nombre del científico, la medición promedio de la temperatura y el número de mediciones."
      ]
    },
    {
      "cell_type": "code",
      "execution_count": null,
      "id": "e4a066cd-3c84-47f2-bffc-e88927c0967b",
      "metadata": {
        "id": "e4a066cd-3c84-47f2-bffc-e88927c0967b",
        "outputId": "b9042ca4-b461-4f60-b188-bf8aaf0143dc",
        "colab": {
          "base_uri": "https://localhost:8080/"
        }
      },
      "outputs": [
        {
          "output_type": "stream",
          "name": "stdout",
          "text": [
            "('lake', -16.0, 1)\n",
            "('pb', -20.0, 2)\n"
          ]
        }
      ],
      "source": [
        "query = \"\"\"\n",
        "        SELECT person, ROUND(AVG(reading), 2), COUNT(reading)\n",
        "        FROM Survey\n",
        "        WHERE (quant = 'temp') AND (person IS NOT NULL)\n",
        "        GROUP BY person\n",
        "        \"\"\"\n",
        "\n",
        "cursor.execute(query)\n",
        "results = cursor.fetchall()\n",
        "for r in results:\n",
        "    print(r)"
      ]
    },
    {
      "cell_type": "markdown",
      "id": "941983db-46a8-4a1e-b69d-726014e641bf",
      "metadata": {
        "id": "941983db-46a8-4a1e-b69d-726014e641bf"
      },
      "source": [
        "Supongamos se desea obtener el promedio de la medición hecha de cada científico para cantidad física. En este caso, el `GROUP BY` requerirá formar grupos considerando dos columnas `person` y `quant`."
      ]
    },
    {
      "cell_type": "code",
      "execution_count": null,
      "id": "aeb82c77-1b8e-4d4f-8d83-4d12cdffec96",
      "metadata": {
        "id": "aeb82c77-1b8e-4d4f-8d83-4d12cdffec96",
        "outputId": "37bde207-04b6-423a-80e2-7129c770c028",
        "colab": {
          "base_uri": "https://localhost:8080/"
        }
      },
      "outputs": [
        {
          "output_type": "stream",
          "name": "stdout",
          "text": [
            "('dyer', 'rad', 2, 8.81)\n",
            "('dyer', 'sal', 2, 0.11)\n",
            "('lake', 'rad', 2, 1.82)\n",
            "('lake', 'sal', 4, 0.11)\n",
            "('lake', 'temp', 1, -16.0)\n",
            "('pb', 'rad', 3, 6.66)\n",
            "('pb', 'temp', 2, -20.0)\n",
            "('roe', 'rad', 1, 11.25)\n",
            "('roe', 'sal', 2, 32.05)\n"
          ]
        }
      ],
      "source": [
        "query = \"\"\"\n",
        "        SELECT   person, quant, COUNT(reading), ROUND(AVG(reading), 2)\n",
        "        FROM     Survey\n",
        "        WHERE    person IS NOT NULL\n",
        "        GROUP BY person, quant\n",
        "        ORDER BY person, quant\n",
        "        \"\"\"\n",
        "\n",
        "cursor.execute(query)\n",
        "results = cursor.fetchall()\n",
        "for r in results:\n",
        "    print(r)"
      ]
    },
    {
      "cell_type": "markdown",
      "id": "724fb06a-a4ae-4039-b802-c2d2e401d4a6",
      "metadata": {
        "id": "724fb06a-a4ae-4039-b802-c2d2e401d4a6"
      },
      "source": [
        "## 3. Combinación de Tablas"
      ]
    },
    {
      "cell_type": "markdown",
      "id": "11f91d41-4ac9-4e45-8959-0d29a23bb43d",
      "metadata": {
        "id": "11f91d41-4ac9-4e45-8959-0d29a23bb43d"
      },
      "source": [
        "Considera que se desea obtener una tabla que contenga la latitud, longitud, la fecha, la cantidad medida y su valor. Esto requiere de la integración de resultados de diferentes columnas, ya que las latitudes y longitudes se encuentran en la tabla `Site`, las fechas y las medidas en `Visited` y las lecturas en `Survey`. La siguiente figura muestras las relaciones que se tienen en las diferentes tablas.\n",
        "\n",
        "![Relaciones de las Tablas](https://swcarpentry.github.io/sql-novice-survey/fig/sql-join-structure.svg)\n",
        "\n",
        "El comando `JOIN` se emplea junto con `ON`para combinar campos de diferentes tablas. El comando JOIN por sí solo dará como resultado un producto cruzado, donde cada fila de la primera tabla se empareja con cada fila de la segunda tabla."
      ]
    },
    {
      "cell_type": "markdown",
      "source": [
        "|id\t|personal\t|family\n",
        "|--|--|--\n",
        "|dyer\t|William\t|Dyer\n",
        "|pb\t|Frank\t|Pabodie\n",
        "|lake\t|Anderson\t|Lake\n",
        "|roe\t|Valentina\t|Roerich\n",
        "|danforth\t|Frank\t|Danforth\n",
        "\n",
        "* Survey: Las medidas tomadas en cada ubicación precisa en estos sitios. Se identifican por el índice `taken`. El campo`quant` es la abreviatura de cantidad (*quantity*) e indica lo que se está midiendo. Los valores son `rad`, `sal` y `temp` que se refieren a 'radiación', 'salinidad' y 'temperatura', respectivamente.\n",
        "\n",
        "\n",
        "|taken\t|person\t|quant\t|reading\n",
        "|--|--|--|--\n",
        "|619\t|dyer\t|rad\t|9.82\n",
        "|619\t|dyer\t|sal\t|0.13\n",
        "|622\t|dyer\t|rad\t|7.8\n",
        "|622\t|dyer\t|sal\t|0.09\n",
        "\n",
        "\n",
        "* Site: Ubicaciones de los sitios donde se tomaron las lecturas.\n",
        "\n",
        "|name\t|lat\t|long\n",
        "|--|--|--\n",
        "|DR-1\t|-49.85\t|-128.57\n",
        "|DR-3\t|-47.15\t|-126.72\n",
        "|MSK-4\t|-48.87\t|-123.4\n",
        "\n",
        "* Visited: Identificación específica `id` de las ubicaciones precisas donde se tomaron las lecturas en los sitios y fechas.\n",
        "\n",
        "|id\t|site\t|dated\n",
        "|--|--|--\n",
        "|619\t|DR-1\t|1927-02-08\n",
        "|622\t|DR-1\t|1927-02-10\n",
        "|734\t|DR-3\t|1930-01-07\n",
        "|735\t|DR-3\t|1930-01-12\n",
        "|751\t|DR-3\t|1930-02-26"
      ],
      "metadata": {
        "id": "Ci-JFmE7jSIO"
      },
      "id": "Ci-JFmE7jSIO"
    },
    {
      "cell_type": "code",
      "execution_count": null,
      "id": "69ab2841-6268-4cf4-8c6b-200c6257bede",
      "metadata": {
        "id": "69ab2841-6268-4cf4-8c6b-200c6257bede",
        "outputId": "cd998634-fb0b-47fc-c16f-8aa6daee20ea",
        "colab": {
          "base_uri": "https://localhost:8080/"
        }
      },
      "outputs": [
        {
          "output_type": "stream",
          "name": "stdout",
          "text": [
            "('DR-1', -49.85, -128.57, 619, 'DR-1', '1927-02-08')\n",
            "('DR-1', -49.85, -128.57, 622, 'DR-1', '1927-02-10')\n",
            "('DR-1', -49.85, -128.57, 734, 'DR-3', '1930-01-07')\n",
            "('DR-1', -49.85, -128.57, 735, 'DR-3', '1930-01-12')\n",
            "('DR-1', -49.85, -128.57, 751, 'DR-3', '1930-02-26')\n",
            "('DR-1', -49.85, -128.57, 752, 'DR-3', None)\n",
            "('DR-1', -49.85, -128.57, 837, 'MSK-4', '1932-01-14')\n",
            "('DR-1', -49.85, -128.57, 844, 'DR-1', '1932-03-22')\n",
            "('DR-3', -47.15, -126.72, 619, 'DR-1', '1927-02-08')\n",
            "('DR-3', -47.15, -126.72, 622, 'DR-1', '1927-02-10')\n",
            "('DR-3', -47.15, -126.72, 734, 'DR-3', '1930-01-07')\n",
            "('DR-3', -47.15, -126.72, 735, 'DR-3', '1930-01-12')\n",
            "('DR-3', -47.15, -126.72, 751, 'DR-3', '1930-02-26')\n",
            "('DR-3', -47.15, -126.72, 752, 'DR-3', None)\n",
            "('DR-3', -47.15, -126.72, 837, 'MSK-4', '1932-01-14')\n",
            "('DR-3', -47.15, -126.72, 844, 'DR-1', '1932-03-22')\n",
            "('MSK-4', -48.87, -123.4, 619, 'DR-1', '1927-02-08')\n",
            "('MSK-4', -48.87, -123.4, 622, 'DR-1', '1927-02-10')\n",
            "('MSK-4', -48.87, -123.4, 734, 'DR-3', '1930-01-07')\n",
            "('MSK-4', -48.87, -123.4, 735, 'DR-3', '1930-01-12')\n",
            "('MSK-4', -48.87, -123.4, 751, 'DR-3', '1930-02-26')\n",
            "('MSK-4', -48.87, -123.4, 752, 'DR-3', None)\n",
            "('MSK-4', -48.87, -123.4, 837, 'MSK-4', '1932-01-14')\n",
            "('MSK-4', -48.87, -123.4, 844, 'DR-1', '1932-03-22')\n"
          ]
        }
      ],
      "source": [
        "query = \"\"\"\n",
        "        SELECT * FROM Site JOIN Visited;\n",
        "        \"\"\"\n",
        "\n",
        "cursor.execute(query)\n",
        "results = cursor.fetchall()\n",
        "for r in results:\n",
        "    print(r)"
      ]
    },
    {
      "cell_type": "markdown",
      "id": "7e56eacb-4bd3-4c79-b2d7-6f9fb61b54e7",
      "metadata": {
        "id": "7e56eacb-4bd3-4c79-b2d7-6f9fb61b54e7"
      },
      "source": [
        " Por lo general, esto no es lo que se desea cuando se combinan dos tablas con datos que están relacionados de alguna manera. Para eso, necesitamos indicar a la computadora qué columnas proporcionan el enlace entre las dos tablas usando la palabra ON. En la query, `ON` determina qué columna de cada tabla usar para combinar las tablas. La unión de cada registro ed la primera con los de la segunda dan todos las posibles combinaciones. En la tabla `Site` se tienen 3 registros, mientras que en `Visited` se tienen 8, por lo que en la unión se muestran 24 registros. Además, como cada tabla tienen 3 campos, en total se tiene 6 campos. El resultado es una tabla con 24 registros y 6 campos.\n",
        "\n",
        "Para realizar una correcta unión, necesitamos indicar a la computadora qué columnas proporcionan el enlace entre las dos tablas usando la palabra `ON`."
      ]
    },
    {
      "cell_type": "code",
      "source": [
        "query = \"\"\"\n",
        "        SELECT *\n",
        "        FROM Site\n",
        "        JOIN Visited\n",
        "            ON Site.name = Visited.site\n",
        "        \"\"\"\n",
        "\n",
        "cursor.execute(query)\n",
        "results = cursor.fetchall()\n",
        "for r in results:\n",
        "    print(r)"
      ],
      "metadata": {
        "colab": {
          "base_uri": "https://localhost:8080/"
        },
        "id": "HUFubcZLj1c2",
        "outputId": "44cd9b6a-5575-4171-9d0a-87962f9ddeb4"
      },
      "id": "HUFubcZLj1c2",
      "execution_count": null,
      "outputs": [
        {
          "output_type": "stream",
          "name": "stdout",
          "text": [
            "('DR-1', -49.85, -128.57, 619, 'DR-1', '1927-02-08')\n",
            "('DR-1', -49.85, -128.57, 622, 'DR-1', '1927-02-10')\n",
            "('DR-1', -49.85, -128.57, 844, 'DR-1', '1932-03-22')\n",
            "('DR-3', -47.15, -126.72, 734, 'DR-3', '1930-01-07')\n",
            "('DR-3', -47.15, -126.72, 735, 'DR-3', '1930-01-12')\n",
            "('DR-3', -47.15, -126.72, 751, 'DR-3', '1930-02-26')\n",
            "('DR-3', -47.15, -126.72, 752, 'DR-3', None)\n",
            "('MSK-4', -48.87, -123.4, 837, 'MSK-4', '1932-01-14')\n"
          ]
        }
      ]
    },
    {
      "cell_type": "code",
      "execution_count": null,
      "id": "45aec94f-71d8-46f4-b63d-55a8734f17ee",
      "metadata": {
        "id": "45aec94f-71d8-46f4-b63d-55a8734f17ee",
        "outputId": "8e68577b-0641-408a-a1b6-dfa2308d6092",
        "colab": {
          "base_uri": "https://localhost:8080/"
        }
      },
      "outputs": [
        {
          "output_type": "stream",
          "name": "stdout",
          "text": [
            "(-49.85, -128.57, '1927-02-08')\n",
            "(-49.85, -128.57, '1927-02-10')\n",
            "(-49.85, -128.57, '1932-03-22')\n",
            "(-47.15, -126.72, None)\n",
            "(-47.15, -126.72, '1930-01-07')\n",
            "(-47.15, -126.72, '1930-01-12')\n",
            "(-47.15, -126.72, '1930-02-26')\n",
            "(-48.87, -123.4, '1932-01-14')\n"
          ]
        }
      ],
      "source": [
        "query = \"\"\"\n",
        "        SELECT\n",
        "            Site.lat,\n",
        "            Site.long,\n",
        "            Visited.dated\n",
        "        FROM Site\n",
        "        JOIN Visited\n",
        "            ON Site.name = Visited.site\n",
        "        \"\"\"\n",
        "\n",
        "cursor.execute(query)\n",
        "results = cursor.fetchall()\n",
        "for r in results:\n",
        "    print(r)"
      ]
    },
    {
      "cell_type": "markdown",
      "id": "502aeba3-1c95-4115-9d48-63c880724674",
      "metadata": {
        "id": "502aeba3-1c95-4115-9d48-63c880724674"
      },
      "source": [
        "En este caso, se ha especificado cada columna como `Table.field` debido a que las tablas pueden tener campos con los mismos nombres. El resultado deseado se puede obtener mediante la unión de más tablas."
      ]
    },
    {
      "cell_type": "code",
      "execution_count": null,
      "id": "dca0fe94-60e9-4fd5-884a-ca14cd552332",
      "metadata": {
        "id": "dca0fe94-60e9-4fd5-884a-ca14cd552332",
        "outputId": "0cc9bab7-82eb-4db3-ac55-75e6147051d6",
        "colab": {
          "base_uri": "https://localhost:8080/"
        }
      },
      "outputs": [
        {
          "output_type": "stream",
          "name": "stdout",
          "text": [
            "(-49.85, -128.57, '1927-02-08', 'rad', 9.82)\n",
            "(-49.85, -128.57, '1927-02-08', 'sal', 0.13)\n",
            "(-49.85, -128.57, '1927-02-10', 'rad', 7.8)\n",
            "(-49.85, -128.57, '1927-02-10', 'sal', 0.09)\n",
            "(-47.15, -126.72, '1930-01-07', 'rad', 8.41)\n",
            "(-47.15, -126.72, '1930-01-07', 'sal', 0.05)\n",
            "(-47.15, -126.72, '1930-01-07', 'temp', -21.5)\n",
            "(-47.15, -126.72, '1930-01-12', 'rad', 7.22)\n",
            "(-47.15, -126.72, '1930-01-12', 'sal', 0.06)\n",
            "(-47.15, -126.72, '1930-01-12', 'temp', -26.0)\n",
            "(-47.15, -126.72, '1930-02-26', 'rad', 4.35)\n",
            "(-47.15, -126.72, '1930-02-26', 'sal', 0.1)\n",
            "(-47.15, -126.72, '1930-02-26', 'temp', -18.5)\n",
            "(-48.87, -123.4, '1932-01-14', 'rad', 1.46)\n",
            "(-48.87, -123.4, '1932-01-14', 'sal', 0.21)\n",
            "(-48.87, -123.4, '1932-01-14', 'sal', 22.5)\n",
            "(-49.85, -128.57, '1932-03-22', 'rad', 11.25)\n"
          ]
        }
      ],
      "source": [
        "query = \"\"\"\n",
        "        SELECT\n",
        "          Site.lat,\n",
        "          Site.long,\n",
        "          Visited.dated,\n",
        "          Survey.quant,\n",
        "          Survey.reading\n",
        "        FROM\n",
        "          Site\n",
        "          JOIN Visited\n",
        "          JOIN Survey ON Site.name = Visited.site\n",
        "          AND Visited.id = Survey.taken\n",
        "          AND Visited.dated IS NOT NULL\n",
        "        \"\"\"\n",
        "\n",
        "cursor.execute(query)\n",
        "results = cursor.fetchall()\n",
        "for r in results:\n",
        "    print(r)"
      ]
    },
    {
      "cell_type": "markdown",
      "id": "0a087264-b221-4dde-a817-1997e23de57a",
      "metadata": {
        "id": "0a087264-b221-4dde-a817-1997e23de57a"
      },
      "source": [
        "Existen diferentes tipos de uniones, a continuación se muestra una imagen con las más relevantes.\n",
        "\n",
        "![Tipos de Uniones](https://i.pinimg.com/originals/17/a5/2d/17a52d72161197cc9e2a52aa0b875697.png)"
      ]
    },
    {
      "cell_type": "markdown",
      "source": [
        "## Referencias"
      ],
      "metadata": {
        "id": "3gPPg_whwrlX"
      },
      "id": "3gPPg_whwrlX"
    },
    {
      "cell_type": "markdown",
      "source": [
        "* Intro to SQL by Kaggle: https://www.kaggle.com/learn/intro-to-sql.\n",
        "* Databases and SQL by Software Carpentry: https://swcarpentry.github.io/sql-novice-survey/10-prog/index.html\n",
        "* Data Management with SQL by Data Carpentry: https://datacarpentry.org/sql-ecology-lesson/03-sql-joins/index.html"
      ],
      "metadata": {
        "id": "4eSWBZq5wwdf"
      },
      "id": "4eSWBZq5wwdf"
    }
  ],
  "metadata": {
    "kernelspec": {
      "display_name": "Python 3 (ipykernel)",
      "language": "python",
      "name": "python3"
    },
    "language_info": {
      "codemirror_mode": {
        "name": "ipython",
        "version": 3
      },
      "file_extension": ".py",
      "mimetype": "text/x-python",
      "name": "python",
      "nbconvert_exporter": "python",
      "pygments_lexer": "ipython3",
      "version": "3.9.12"
    },
    "colab": {
      "provenance": []
    }
  },
  "nbformat": 4,
  "nbformat_minor": 5
}