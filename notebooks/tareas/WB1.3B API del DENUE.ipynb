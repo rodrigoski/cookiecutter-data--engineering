{
 "cells": [
  {
   "cell_type": "markdown",
   "metadata": {
    "id": "Ga8PfUyTkRSD"
   },
   "source": [
    "# API del DENUE\n",
    "\n",
    "La API del DENUE te permite consultar datos de identificación, ubicación, actividad económica y tamaño de más de 5 millones de establecimientos a nivel nacional, por entidad federativa y municipio. Esta puede utilizarse para crear aplicaciones que muestren la información directamente de las bases de datos del INEGI en el preciso momento en que se actualiza.\n",
    "\n",
    "Los indicadores que se tienen disponible por establecimiento son los siguientes:\n",
    "* CLEE\n",
    "* Id de establecimiento\n",
    "* Nombre del establecimiento\n",
    "* Razón social\n",
    "* Clase de la actividad económica\n",
    "* Estrato (Personal ocupado)\n",
    "* Tipo de la vialidad\n",
    "* Calle\n",
    "* Número exterior\n",
    "* Número interior\n",
    "* Colonia\n",
    "* Código postal\n",
    "* Localidad, municipio y entidad federativa\n",
    "* Teléfono\n",
    "* Correo electrónico\n",
    "* Página de internet\n",
    "* Tipo de establecimiento\n",
    "* Longitud\n",
    "* Latitud\n",
    "\n",
    "Esta API provee de diferentes métodos para obtener información incluyendo:\n",
    "* **Buscar**. Realiza una consulta de todos los establecimientos que cumplan las condiciones definidas.\n",
    "* **Ficha**. Obtiene la información de un establecimiento en específico.\n",
    "* **Nombre**. Realiza una consulta de todos los establecimientos por nombre o razón social y puede ser acotado por entidad federativa.\n",
    "* **BuscarEntidad**. Realiza una consulta de todos los establecimientos y puede ser acotada por entidad federativa.\n",
    "* **BuscarAreaAct**. Realiza una consulta de todos los establecimientos con la opción de acotar la búsqueda por área geográfica, actividad económica, nombre y clave del establecimiento.\n",
    "* **BuscarAreaActEstr**. Realiza una consulta de todos los establecimientos con la opción de acotar la búsqueda por área geográfica, actividad económica, nombre,clave del establecimiento y estrato.\n",
    "* **Cuantificar**. Realiza un conteo de todos los establecimientos con la opción de acotar la búsqueda por área geográfica, actividad económica y estrato.\n",
    "\n",
    "La documentación completa puede encontrarse en el siguiente [enlace](https://www.inegi.org.mx/servicios/api_denue.html)."
   ]
  },
  {
   "cell_type": "markdown",
   "metadata": {
    "id": "CEYwucjVljuH"
   },
   "source": [
    "## 1. Token de Autenticación\n",
    "\n",
    "El Token es un número único que permite hacer consultas. Este permite identificar a los usuarios y la cantidad de consultas realizadas. Para obtenerlo accede a la página de documentación en la pestaña \"Guía para desarrolladores\". En cada uno de los métodos se tiene el enlace para registrarse en la descripción del parámetro `token`.\n",
    "\n",
    "![Figure 1](https://miro.medium.com/max/700/1*KEh7ODpDdculfXK2x4w6pw.png)\n",
    "\n",
    "Una vez que te has registrado, revisa tu correo para identificar tu token."
   ]
  },
  {
   "cell_type": "code",
   "execution_count": null,
   "metadata": {
    "id": "GF7JSUPnmoEO"
   },
   "outputs": [],
   "source": [
    "import requests\n",
    "import pandas as pd"
   ]
  },
  {
   "cell_type": "code",
   "execution_count": null,
   "metadata": {
    "id": "ODuwik4vmeUe"
   },
   "outputs": [],
   "source": [
    "token = \"PUT_YOUR_TOKEN_HERE\""
   ]
  },
  {
   "cell_type": "markdown",
   "metadata": {
    "id": "6cuTPqEdmCQv"
   },
   "source": [
    "## 2. BuscarEntidad\n",
    "\n",
    "El método ``BuscarEntidad` permite realizar una consulta de todos los establecimientos de una entidad federativa. De acuerdo a la documentación, sus parámetros son los siguientes:\n",
    "\n",
    "\n",
    "* **Condición**. Palabra(s) a buscar dentro del nombre del establecimiento, razón social, calle, colonia, clase de la actividad económica, entidad federativa, municipio y localidad. Para buscar todos los establecimientos se deberá ingresar la palabra \"todos\".\n",
    "* **Entidad federativa**. Clave de dos dígitos de la entidad federativa (01 a 32). Para incluir todas las entidades se especifica 00.\n",
    "* **Registro inicial**. Número de registro a partir del cuál se mostrarán los resultados de la búsqueda.\n",
    "* **Registro final**. Número de registro final que se mostrará en los resultados de la búsqueda.\n",
    "* **Token**. Número único que permite hacer consultas, el cual se puede obtener al registrarse aquí\n",
    "\n",
    "De acuerdo a la documentación parar localizar los restaurantes de Chiapas (Entidad 7, [Documentación](https://www.google.com/url?sa=t&rct=j&q=&esrc=s&source=web&cd=&ved=2ahUKEwiw3_Kt6qD6AhW1TjABHR-iCbEQFnoECAIQAw&url=https%3A%2F%2Fwww.inegi.org.mx%2Frnm%2Findex.php%2Fcatalog%2F209%2Fdownload%2F6075&usg=AOvVaw2ddXCn_6INr2ZIYFfTZjuA)) del Registro 1 al 100 se emplearía la siguiente URL:\n",
    "\n",
    "`https://www.inegi.org.mx/app/api/denue/v1/consulta/BuscarEntidad/restaurantes/7/1/100/[Aquí va tu token]`"
   ]
  },
  {
   "cell_type": "code",
   "execution_count": null,
   "metadata": {
    "colab": {
     "base_uri": "https://localhost:8080/",
     "height": 35
    },
    "executionInfo": {
     "elapsed": 146,
     "status": "ok",
     "timestamp": 1663618971407,
     "user": {
      "displayName": "Gonzalo G. Peraza Mues",
      "userId": "05117844317547842340"
     },
     "user_tz": 300
    },
    "id": "o2lD02dOo4Dn",
    "outputId": "b12ab907-9efc-49ad-c08c-f325b41a3ea9"
   },
   "outputs": [
    {
     "data": {
      "application/vnd.google.colaboratory.intrinsic+json": {
       "type": "string"
      },
      "text/plain": [
       "'https://www.inegi.org.mx/app/api/denue/v1/consulta/BuscarEntidad/restaurantes/7/1/100/6957c2d6-677f-49b0-8264-3c92937d436f'"
      ]
     },
     "execution_count": 3,
     "metadata": {},
     "output_type": "execute_result"
    }
   ],
   "source": [
    "# URL\n",
    "url = f\"https://www.inegi.org.mx/app/api/denue/v1/consulta/BuscarEntidad/restaurantes/7/1/100/{token}\"\n",
    "url"
   ]
  },
  {
   "cell_type": "code",
   "execution_count": null,
   "metadata": {
    "id": "FeE1iAwxo92Z"
   },
   "outputs": [],
   "source": [
    "# Petición de Datos\n",
    "response = requests.get(url)"
   ]
  },
  {
   "cell_type": "code",
   "execution_count": null,
   "metadata": {
    "id": "CV090i99pEV8"
   },
   "outputs": [],
   "source": [
    "# Datos\n",
    "data_json = response.json()"
   ]
  },
  {
   "cell_type": "code",
   "execution_count": null,
   "metadata": {
    "id": "rUMeHT4ppEaM"
   },
   "outputs": [],
   "source": [
    "# DataFrame\n",
    "data_dataframe =  pd.DataFrame(data_json)"
   ]
  },
  {
   "cell_type": "code",
   "execution_count": null,
   "metadata": {
    "colab": {
     "base_uri": "https://localhost:8080/",
     "height": 664
    },
    "executionInfo": {
     "elapsed": 157,
     "status": "ok",
     "timestamp": 1663619004328,
     "user": {
      "displayName": "Gonzalo G. Peraza Mues",
      "userId": "05117844317547842340"
     },
     "user_tz": 300
    },
    "id": "cdOoZPKOpEfs",
    "outputId": "0197f1e3-a51a-484e-8584-add9d7dde1e1"
   },
   "outputs": [
    {
     "data": {
      "text/html": [
       "\n",
       "  <div id=\"df-fae02338-9e98-4267-a61a-70ddd8c8896c\">\n",
       "    <div class=\"colab-df-container\">\n",
       "      <div>\n",
       "<style scoped>\n",
       "    .dataframe tbody tr th:only-of-type {\n",
       "        vertical-align: middle;\n",
       "    }\n",
       "\n",
       "    .dataframe tbody tr th {\n",
       "        vertical-align: top;\n",
       "    }\n",
       "\n",
       "    .dataframe thead th {\n",
       "        text-align: right;\n",
       "    }\n",
       "</style>\n",
       "<table border=\"1\" class=\"dataframe\">\n",
       "  <thead>\n",
       "    <tr style=\"text-align: right;\">\n",
       "      <th></th>\n",
       "      <th>CLEE</th>\n",
       "      <th>Id</th>\n",
       "      <th>Nombre</th>\n",
       "      <th>Razon_social</th>\n",
       "      <th>Clase_actividad</th>\n",
       "      <th>Estrato</th>\n",
       "      <th>Tipo_vialidad</th>\n",
       "      <th>Calle</th>\n",
       "      <th>Num_Exterior</th>\n",
       "      <th>Num_Interior</th>\n",
       "      <th>...</th>\n",
       "      <th>Ubicacion</th>\n",
       "      <th>Telefono</th>\n",
       "      <th>Correo_e</th>\n",
       "      <th>Sitio_internet</th>\n",
       "      <th>Tipo</th>\n",
       "      <th>Longitud</th>\n",
       "      <th>Latitud</th>\n",
       "      <th>tipo_corredor_industrial</th>\n",
       "      <th>nom_corredor_industrial</th>\n",
       "      <th>numero_local</th>\n",
       "    </tr>\n",
       "  </thead>\n",
       "  <tbody>\n",
       "    <tr>\n",
       "      <th>0</th>\n",
       "      <td>07101722514000413001000000U1</td>\n",
       "      <td>387003</td>\n",
       "      <td>0FICINAS DE TACOS PAU</td>\n",
       "      <td></td>\n",
       "      <td>Restaurantes con servicio de preparación de ta...</td>\n",
       "      <td>6 a 10 personas</td>\n",
       "      <td>CALLE</td>\n",
       "      <td>QUINTANA ROO</td>\n",
       "      <td>464</td>\n",
       "      <td></td>\n",
       "      <td>...</td>\n",
       "      <td>TUXTLA GUTIÉRREZ, Tuxtla Gutiérrez, CHIAPAS</td>\n",
       "      <td></td>\n",
       "      <td></td>\n",
       "      <td></td>\n",
       "      <td>Fijo</td>\n",
       "      <td>-93.08857321</td>\n",
       "      <td>16.74351888</td>\n",
       "      <td></td>\n",
       "      <td></td>\n",
       "      <td></td>\n",
       "    </tr>\n",
       "    <tr>\n",
       "      <th>1</th>\n",
       "      <td>07019722511001083000000000U1</td>\n",
       "      <td>7082791</td>\n",
       "      <td>1813 COSINA MEXICANA</td>\n",
       "      <td></td>\n",
       "      <td>Restaurantes con servicio de preparación de al...</td>\n",
       "      <td>11 a 30 personas</td>\n",
       "      <td>CALLE</td>\n",
       "      <td>NOVENA SUR ORIENTE</td>\n",
       "      <td>48</td>\n",
       "      <td>0</td>\n",
       "      <td>...</td>\n",
       "      <td>COMITÁN DE DOMÍNGUEZ, Comitán de Domínguez, CH...</td>\n",
       "      <td>9611070370</td>\n",
       "      <td></td>\n",
       "      <td></td>\n",
       "      <td>Fijo</td>\n",
       "      <td>-92.12711488</td>\n",
       "      <td>16.24767148</td>\n",
       "      <td></td>\n",
       "      <td></td>\n",
       "      <td></td>\n",
       "    </tr>\n",
       "    <tr>\n",
       "      <th>2</th>\n",
       "      <td>07089722514004371000000000U4</td>\n",
       "      <td>7919043</td>\n",
       "      <td>24 DE DICIEMBRE</td>\n",
       "      <td></td>\n",
       "      <td>Restaurantes con servicio de preparación de ta...</td>\n",
       "      <td>0 a 5 personas</td>\n",
       "      <td>AVENIDA</td>\n",
       "      <td>OCTAVA NORTE</td>\n",
       "      <td>0</td>\n",
       "      <td>0</td>\n",
       "      <td>...</td>\n",
       "      <td>TAPACHULA DE CÓRDOVA Y ORDÓÑEZ, Tapachula, CHI...</td>\n",
       "      <td></td>\n",
       "      <td></td>\n",
       "      <td></td>\n",
       "      <td>Fijo</td>\n",
       "      <td>-92.25381647</td>\n",
       "      <td>14.94857149</td>\n",
       "      <td></td>\n",
       "      <td></td>\n",
       "      <td></td>\n",
       "    </tr>\n",
       "    <tr>\n",
       "      <th>3</th>\n",
       "      <td>07019722513001811000000000U1</td>\n",
       "      <td>7082514</td>\n",
       "      <td>28 CAFE LONCHERIA</td>\n",
       "      <td></td>\n",
       "      <td>Restaurantes con servicio de preparación de an...</td>\n",
       "      <td>0 a 5 personas</td>\n",
       "      <td>AVENIDA</td>\n",
       "      <td>SEGUNDA ORIENTE SUR</td>\n",
       "      <td>80</td>\n",
       "      <td></td>\n",
       "      <td>...</td>\n",
       "      <td>COMITÁN DE DOMÍNGUEZ, Comitán de Domínguez, CH...</td>\n",
       "      <td></td>\n",
       "      <td></td>\n",
       "      <td></td>\n",
       "      <td>Fijo</td>\n",
       "      <td>-92.13113388</td>\n",
       "      <td>16.24871044</td>\n",
       "      <td></td>\n",
       "      <td></td>\n",
       "      <td></td>\n",
       "    </tr>\n",
       "    <tr>\n",
       "      <th>4</th>\n",
       "      <td>07101722511000072000000000S1</td>\n",
       "      <td>418994</td>\n",
       "      <td>500 NOCHES</td>\n",
       "      <td></td>\n",
       "      <td>Restaurantes con servicio de preparación de al...</td>\n",
       "      <td>6 a 10 personas</td>\n",
       "      <td>BOULEVARD</td>\n",
       "      <td>DOCTOR BELISARIO DOMINGUEZ</td>\n",
       "      <td>2381</td>\n",
       "      <td></td>\n",
       "      <td>...</td>\n",
       "      <td>TUXTLA GUTIÉRREZ, Tuxtla Gutiérrez, CHIAPAS</td>\n",
       "      <td></td>\n",
       "      <td></td>\n",
       "      <td></td>\n",
       "      <td>Fijo</td>\n",
       "      <td>-93.13937396</td>\n",
       "      <td>16.75464393</td>\n",
       "      <td></td>\n",
       "      <td></td>\n",
       "      <td></td>\n",
       "    </tr>\n",
       "  </tbody>\n",
       "</table>\n",
       "<p>5 rows × 22 columns</p>\n",
       "</div>\n",
       "      <button class=\"colab-df-convert\" onclick=\"convertToInteractive('df-fae02338-9e98-4267-a61a-70ddd8c8896c')\"\n",
       "              title=\"Convert this dataframe to an interactive table.\"\n",
       "              style=\"display:none;\">\n",
       "        \n",
       "  <svg xmlns=\"http://www.w3.org/2000/svg\" height=\"24px\"viewBox=\"0 0 24 24\"\n",
       "       width=\"24px\">\n",
       "    <path d=\"M0 0h24v24H0V0z\" fill=\"none\"/>\n",
       "    <path d=\"M18.56 5.44l.94 2.06.94-2.06 2.06-.94-2.06-.94-.94-2.06-.94 2.06-2.06.94zm-11 1L8.5 8.5l.94-2.06 2.06-.94-2.06-.94L8.5 2.5l-.94 2.06-2.06.94zm10 10l.94 2.06.94-2.06 2.06-.94-2.06-.94-.94-2.06-.94 2.06-2.06.94z\"/><path d=\"M17.41 7.96l-1.37-1.37c-.4-.4-.92-.59-1.43-.59-.52 0-1.04.2-1.43.59L10.3 9.45l-7.72 7.72c-.78.78-.78 2.05 0 2.83L4 21.41c.39.39.9.59 1.41.59.51 0 1.02-.2 1.41-.59l7.78-7.78 2.81-2.81c.8-.78.8-2.07 0-2.86zM5.41 20L4 18.59l7.72-7.72 1.47 1.35L5.41 20z\"/>\n",
       "  </svg>\n",
       "      </button>\n",
       "      \n",
       "  <style>\n",
       "    .colab-df-container {\n",
       "      display:flex;\n",
       "      flex-wrap:wrap;\n",
       "      gap: 12px;\n",
       "    }\n",
       "\n",
       "    .colab-df-convert {\n",
       "      background-color: #E8F0FE;\n",
       "      border: none;\n",
       "      border-radius: 50%;\n",
       "      cursor: pointer;\n",
       "      display: none;\n",
       "      fill: #1967D2;\n",
       "      height: 32px;\n",
       "      padding: 0 0 0 0;\n",
       "      width: 32px;\n",
       "    }\n",
       "\n",
       "    .colab-df-convert:hover {\n",
       "      background-color: #E2EBFA;\n",
       "      box-shadow: 0px 1px 2px rgba(60, 64, 67, 0.3), 0px 1px 3px 1px rgba(60, 64, 67, 0.15);\n",
       "      fill: #174EA6;\n",
       "    }\n",
       "\n",
       "    [theme=dark] .colab-df-convert {\n",
       "      background-color: #3B4455;\n",
       "      fill: #D2E3FC;\n",
       "    }\n",
       "\n",
       "    [theme=dark] .colab-df-convert:hover {\n",
       "      background-color: #434B5C;\n",
       "      box-shadow: 0px 1px 3px 1px rgba(0, 0, 0, 0.15);\n",
       "      filter: drop-shadow(0px 1px 2px rgba(0, 0, 0, 0.3));\n",
       "      fill: #FFFFFF;\n",
       "    }\n",
       "  </style>\n",
       "\n",
       "      <script>\n",
       "        const buttonEl =\n",
       "          document.querySelector('#df-fae02338-9e98-4267-a61a-70ddd8c8896c button.colab-df-convert');\n",
       "        buttonEl.style.display =\n",
       "          google.colab.kernel.accessAllowed ? 'block' : 'none';\n",
       "\n",
       "        async function convertToInteractive(key) {\n",
       "          const element = document.querySelector('#df-fae02338-9e98-4267-a61a-70ddd8c8896c');\n",
       "          const dataTable =\n",
       "            await google.colab.kernel.invokeFunction('convertToInteractive',\n",
       "                                                     [key], {});\n",
       "          if (!dataTable) return;\n",
       "\n",
       "          const docLinkHtml = 'Like what you see? Visit the ' +\n",
       "            '<a target=\"_blank\" href=https://colab.research.google.com/notebooks/data_table.ipynb>data table notebook</a>'\n",
       "            + ' to learn more about interactive tables.';\n",
       "          element.innerHTML = '';\n",
       "          dataTable['output_type'] = 'display_data';\n",
       "          await google.colab.output.renderOutput(dataTable, element);\n",
       "          const docLink = document.createElement('div');\n",
       "          docLink.innerHTML = docLinkHtml;\n",
       "          element.appendChild(docLink);\n",
       "        }\n",
       "      </script>\n",
       "    </div>\n",
       "  </div>\n",
       "  "
      ],
      "text/plain": [
       "                           CLEE       Id                 Nombre Razon_social  \\\n",
       "0  07101722514000413001000000U1   387003  0FICINAS DE TACOS PAU                \n",
       "1  07019722511001083000000000U1  7082791   1813 COSINA MEXICANA                \n",
       "2  07089722514004371000000000U4  7919043        24 DE DICIEMBRE                \n",
       "3  07019722513001811000000000U1  7082514      28 CAFE LONCHERIA                \n",
       "4  07101722511000072000000000S1   418994             500 NOCHES                \n",
       "\n",
       "                                     Clase_actividad           Estrato  \\\n",
       "0  Restaurantes con servicio de preparación de ta...   6 a 10 personas   \n",
       "1  Restaurantes con servicio de preparación de al...  11 a 30 personas   \n",
       "2  Restaurantes con servicio de preparación de ta...    0 a 5 personas   \n",
       "3  Restaurantes con servicio de preparación de an...    0 a 5 personas   \n",
       "4  Restaurantes con servicio de preparación de al...   6 a 10 personas   \n",
       "\n",
       "  Tipo_vialidad                       Calle Num_Exterior Num_Interior  ...  \\\n",
       "0         CALLE                QUINTANA ROO          464               ...   \n",
       "1         CALLE          NOVENA SUR ORIENTE           48            0  ...   \n",
       "2       AVENIDA                OCTAVA NORTE            0            0  ...   \n",
       "3       AVENIDA         SEGUNDA ORIENTE SUR           80               ...   \n",
       "4     BOULEVARD  DOCTOR BELISARIO DOMINGUEZ         2381               ...   \n",
       "\n",
       "                                           Ubicacion    Telefono Correo_e  \\\n",
       "0        TUXTLA GUTIÉRREZ, Tuxtla Gutiérrez, CHIAPAS                        \n",
       "1  COMITÁN DE DOMÍNGUEZ, Comitán de Domínguez, CH...  9611070370            \n",
       "2  TAPACHULA DE CÓRDOVA Y ORDÓÑEZ, Tapachula, CHI...                        \n",
       "3  COMITÁN DE DOMÍNGUEZ, Comitán de Domínguez, CH...                        \n",
       "4        TUXTLA GUTIÉRREZ, Tuxtla Gutiérrez, CHIAPAS                        \n",
       "\n",
       "  Sitio_internet  Tipo      Longitud      Latitud tipo_corredor_industrial  \\\n",
       "0                 Fijo  -93.08857321  16.74351888                            \n",
       "1                 Fijo  -92.12711488  16.24767148                            \n",
       "2                 Fijo  -92.25381647  14.94857149                            \n",
       "3                 Fijo  -92.13113388  16.24871044                            \n",
       "4                 Fijo  -93.13937396  16.75464393                            \n",
       "\n",
       "  nom_corredor_industrial numero_local  \n",
       "0                                       \n",
       "1                                       \n",
       "2                                       \n",
       "3                                       \n",
       "4                                       \n",
       "\n",
       "[5 rows x 22 columns]"
      ]
     },
     "execution_count": 7,
     "metadata": {},
     "output_type": "execute_result"
    }
   ],
   "source": [
    "# Encabezado\n",
    "data_dataframe.head()"
   ]
  },
  {
   "cell_type": "code",
   "execution_count": null,
   "metadata": {
    "colab": {
     "base_uri": "https://localhost:8080/"
    },
    "executionInfo": {
     "elapsed": 161,
     "status": "ok",
     "timestamp": 1663619196074,
     "user": {
      "displayName": "Gonzalo G. Peraza Mues",
      "userId": "05117844317547842340"
     },
     "user_tz": 300
    },
    "id": "Lh0mmy1RpEmJ",
    "outputId": "3d4ab509-19f8-4c91-c255-15d7a0bef5b2"
   },
   "outputs": [
    {
     "data": {
      "text/plain": [
       "(100, 22)"
      ]
     },
     "execution_count": 9,
     "metadata": {},
     "output_type": "execute_result"
    }
   ],
   "source": [
    "# Tamaño\n",
    "data_dataframe.shape"
   ]
  },
  {
   "cell_type": "markdown",
   "metadata": {
    "id": "z5O72rempgyH"
   },
   "source": [
    "Ahora tratemos de generalizar la petición"
   ]
  },
  {
   "cell_type": "code",
   "execution_count": null,
   "metadata": {
    "id": "j0EB4zl1jwX2"
   },
   "outputs": [],
   "source": [
    "condicion        = \"todos\"  # Si escribimos \"todos\" nos deolverá todos los tipos de unidades económicas\n",
    "entidad          = 7        #Chiapas es la Entidad 7\n",
    "registro_inicial = 1\n",
    "registro_final   = 100000000"
   ]
  },
  {
   "cell_type": "code",
   "execution_count": null,
   "metadata": {
    "colab": {
     "base_uri": "https://localhost:8080/",
     "height": 35
    },
    "executionInfo": {
     "elapsed": 152,
     "status": "ok",
     "timestamp": 1663619245824,
     "user": {
      "displayName": "Gonzalo G. Peraza Mues",
      "userId": "05117844317547842340"
     },
     "user_tz": 300
    },
    "id": "j1HAZvt2onMM",
    "outputId": "61649a6a-00a6-4f02-bb1d-7734e5476222"
   },
   "outputs": [
    {
     "data": {
      "application/vnd.google.colaboratory.intrinsic+json": {
       "type": "string"
      },
      "text/plain": [
       "'https://www.inegi.org.mx/app/api/denue/v1/consulta/BuscarEntidad/todos/7/1/100000000/6957c2d6-677f-49b0-8264-3c92937d436f'"
      ]
     },
     "execution_count": 11,
     "metadata": {},
     "output_type": "execute_result"
    }
   ],
   "source": [
    "# url\n",
    "url = f'https://www.inegi.org.mx/app/api/denue/v1/consulta/BuscarEntidad/{condicion}/{entidad}/{registro_inicial}/{registro_final}/{token}'\n",
    "url"
   ]
  },
  {
   "cell_type": "code",
   "execution_count": null,
   "metadata": {
    "id": "Y0iZb48wog7h"
   },
   "outputs": [],
   "source": [
    "# Petición\n",
    "response = requests.get(url)\n",
    "# Datos\n",
    "data_json = response.json()\n",
    "# DataFrame\n",
    "data_dataframe = pd.DataFrame(data_json)"
   ]
  },
  {
   "cell_type": "code",
   "execution_count": null,
   "metadata": {
    "colab": {
     "base_uri": "https://localhost:8080/",
     "height": 612
    },
    "executionInfo": {
     "elapsed": 170,
     "status": "ok",
     "timestamp": 1663619380676,
     "user": {
      "displayName": "Gonzalo G. Peraza Mues",
      "userId": "05117844317547842340"
     },
     "user_tz": 300
    },
    "id": "QUZ98fVAp-tU",
    "outputId": "f08ab2e0-bee9-4cc3-e0bc-a3b0624a0b1c"
   },
   "outputs": [
    {
     "data": {
      "text/html": [
       "\n",
       "  <div id=\"df-12f8e9df-0766-4025-af30-3507bf3ddd11\">\n",
       "    <div class=\"colab-df-container\">\n",
       "      <div>\n",
       "<style scoped>\n",
       "    .dataframe tbody tr th:only-of-type {\n",
       "        vertical-align: middle;\n",
       "    }\n",
       "\n",
       "    .dataframe tbody tr th {\n",
       "        vertical-align: top;\n",
       "    }\n",
       "\n",
       "    .dataframe thead th {\n",
       "        text-align: right;\n",
       "    }\n",
       "</style>\n",
       "<table border=\"1\" class=\"dataframe\">\n",
       "  <thead>\n",
       "    <tr style=\"text-align: right;\">\n",
       "      <th></th>\n",
       "      <th>CLEE</th>\n",
       "      <th>Id</th>\n",
       "      <th>Nombre</th>\n",
       "      <th>Razon_social</th>\n",
       "      <th>Clase_actividad</th>\n",
       "      <th>Estrato</th>\n",
       "      <th>Tipo_vialidad</th>\n",
       "      <th>Calle</th>\n",
       "      <th>Num_Exterior</th>\n",
       "      <th>Num_Interior</th>\n",
       "      <th>...</th>\n",
       "      <th>Ubicacion</th>\n",
       "      <th>Telefono</th>\n",
       "      <th>Correo_e</th>\n",
       "      <th>Sitio_internet</th>\n",
       "      <th>Tipo</th>\n",
       "      <th>Longitud</th>\n",
       "      <th>Latitud</th>\n",
       "      <th>tipo_corredor_industrial</th>\n",
       "      <th>nom_corredor_industrial</th>\n",
       "      <th>numero_local</th>\n",
       "    </tr>\n",
       "  </thead>\n",
       "  <tbody>\n",
       "    <tr>\n",
       "      <th>0</th>\n",
       "      <td>07097114119000072001000000U9</td>\n",
       "      <td>6168429</td>\n",
       "      <td>CORALES DEL PACIFICO</td>\n",
       "      <td>SOCIEDAD COPERATIVA CORALES DEL PACIFICO SC DE RL</td>\n",
       "      <td>Pesca y captura de peces, crustáceos, moluscos...</td>\n",
       "      <td>11 a 30 personas</td>\n",
       "      <td>OTRO (ESPECIFIQUE)</td>\n",
       "      <td>NINGUNO</td>\n",
       "      <td>0</td>\n",
       "      <td>0</td>\n",
       "      <td>...</td>\n",
       "      <td>PAREDÓN, Tonalá, CHIAPAS</td>\n",
       "      <td></td>\n",
       "      <td></td>\n",
       "      <td></td>\n",
       "      <td>Fijo</td>\n",
       "      <td>-93.87062909</td>\n",
       "      <td>16.04932792</td>\n",
       "      <td></td>\n",
       "      <td></td>\n",
       "      <td></td>\n",
       "    </tr>\n",
       "    <tr>\n",
       "      <th>1</th>\n",
       "      <td>07107114119000143101000000U5</td>\n",
       "      <td>6168481</td>\n",
       "      <td>PESCADORES DE RANCHERIA LAS MARGARITAS</td>\n",
       "      <td>PESCADORES DE RANCHERIA LAS MARGARITAS SA DE CV</td>\n",
       "      <td>Pesca y captura de peces, crustáceos, moluscos...</td>\n",
       "      <td>11 a 30 personas</td>\n",
       "      <td>CALLE</td>\n",
       "      <td>LAS MARGARITAS</td>\n",
       "      <td>0</td>\n",
       "      <td>0</td>\n",
       "      <td>...</td>\n",
       "      <td>JERICÓ (PORVENIR), El Parral, CHIAPAS</td>\n",
       "      <td></td>\n",
       "      <td></td>\n",
       "      <td></td>\n",
       "      <td>Fijo</td>\n",
       "      <td>-92.95530000</td>\n",
       "      <td>16.26040000</td>\n",
       "      <td></td>\n",
       "      <td></td>\n",
       "      <td></td>\n",
       "    </tr>\n",
       "    <tr>\n",
       "      <th>2</th>\n",
       "      <td>07014522460000032000000000U2</td>\n",
       "      <td>9328365</td>\n",
       "      <td>\\tMotus Invertere, S.A. de C.V., SOFOM, E.R.</td>\n",
       "      <td>MOTUS INVERTERE SA DE CV</td>\n",
       "      <td>Sociedades financieras de objeto múltiple</td>\n",
       "      <td>6 a 10 personas</td>\n",
       "      <td></td>\n",
       "      <td></td>\n",
       "      <td></td>\n",
       "      <td></td>\n",
       "      <td>...</td>\n",
       "      <td>EL BOSQUE, El Bosque, CHIAPAS</td>\n",
       "      <td></td>\n",
       "      <td></td>\n",
       "      <td></td>\n",
       "      <td>Fijo</td>\n",
       "      <td>-92.72125300</td>\n",
       "      <td>17.06182700</td>\n",
       "      <td></td>\n",
       "      <td></td>\n",
       "      <td></td>\n",
       "    </tr>\n",
       "    <tr>\n",
       "      <th>3</th>\n",
       "      <td>07014522460000042000044051S1</td>\n",
       "      <td>9328366</td>\n",
       "      <td>\\tProyectos Adamantine, S.A. de C.V., SOFOM, E...</td>\n",
       "      <td>PROYECTOS ADAMANTINE SA DE CV SOFOM ERP</td>\n",
       "      <td>Sociedades financieras de objeto múltiple</td>\n",
       "      <td>6 a 10 personas</td>\n",
       "      <td></td>\n",
       "      <td></td>\n",
       "      <td></td>\n",
       "      <td></td>\n",
       "      <td>...</td>\n",
       "      <td>EL BOSQUE, El Bosque, CHIAPAS</td>\n",
       "      <td></td>\n",
       "      <td></td>\n",
       "      <td></td>\n",
       "      <td>Fijo</td>\n",
       "      <td>-92.72125300</td>\n",
       "      <td>17.06182700</td>\n",
       "      <td></td>\n",
       "      <td></td>\n",
       "      <td></td>\n",
       "    </tr>\n",
       "    <tr>\n",
       "      <th>4</th>\n",
       "      <td>07074621111000171000000000U1</td>\n",
       "      <td>9331897</td>\n",
       "      <td>(H) CONSULTORIO REFORMA, CHIS.</td>\n",
       "      <td>(H) CONSULTORIO REFORMA, CHIS.</td>\n",
       "      <td>Consultorios de medicina general del sector pr...</td>\n",
       "      <td>0 a 5 personas</td>\n",
       "      <td></td>\n",
       "      <td></td>\n",
       "      <td></td>\n",
       "      <td></td>\n",
       "      <td>...</td>\n",
       "      <td>REFORMA, Reforma, CHIAPAS</td>\n",
       "      <td></td>\n",
       "      <td></td>\n",
       "      <td></td>\n",
       "      <td>Fijo</td>\n",
       "      <td>-93.15848314</td>\n",
       "      <td>17.86064208</td>\n",
       "      <td></td>\n",
       "      <td></td>\n",
       "      <td></td>\n",
       "    </tr>\n",
       "  </tbody>\n",
       "</table>\n",
       "<p>5 rows × 22 columns</p>\n",
       "</div>\n",
       "      <button class=\"colab-df-convert\" onclick=\"convertToInteractive('df-12f8e9df-0766-4025-af30-3507bf3ddd11')\"\n",
       "              title=\"Convert this dataframe to an interactive table.\"\n",
       "              style=\"display:none;\">\n",
       "        \n",
       "  <svg xmlns=\"http://www.w3.org/2000/svg\" height=\"24px\"viewBox=\"0 0 24 24\"\n",
       "       width=\"24px\">\n",
       "    <path d=\"M0 0h24v24H0V0z\" fill=\"none\"/>\n",
       "    <path d=\"M18.56 5.44l.94 2.06.94-2.06 2.06-.94-2.06-.94-.94-2.06-.94 2.06-2.06.94zm-11 1L8.5 8.5l.94-2.06 2.06-.94-2.06-.94L8.5 2.5l-.94 2.06-2.06.94zm10 10l.94 2.06.94-2.06 2.06-.94-2.06-.94-.94-2.06-.94 2.06-2.06.94z\"/><path d=\"M17.41 7.96l-1.37-1.37c-.4-.4-.92-.59-1.43-.59-.52 0-1.04.2-1.43.59L10.3 9.45l-7.72 7.72c-.78.78-.78 2.05 0 2.83L4 21.41c.39.39.9.59 1.41.59.51 0 1.02-.2 1.41-.59l7.78-7.78 2.81-2.81c.8-.78.8-2.07 0-2.86zM5.41 20L4 18.59l7.72-7.72 1.47 1.35L5.41 20z\"/>\n",
       "  </svg>\n",
       "      </button>\n",
       "      \n",
       "  <style>\n",
       "    .colab-df-container {\n",
       "      display:flex;\n",
       "      flex-wrap:wrap;\n",
       "      gap: 12px;\n",
       "    }\n",
       "\n",
       "    .colab-df-convert {\n",
       "      background-color: #E8F0FE;\n",
       "      border: none;\n",
       "      border-radius: 50%;\n",
       "      cursor: pointer;\n",
       "      display: none;\n",
       "      fill: #1967D2;\n",
       "      height: 32px;\n",
       "      padding: 0 0 0 0;\n",
       "      width: 32px;\n",
       "    }\n",
       "\n",
       "    .colab-df-convert:hover {\n",
       "      background-color: #E2EBFA;\n",
       "      box-shadow: 0px 1px 2px rgba(60, 64, 67, 0.3), 0px 1px 3px 1px rgba(60, 64, 67, 0.15);\n",
       "      fill: #174EA6;\n",
       "    }\n",
       "\n",
       "    [theme=dark] .colab-df-convert {\n",
       "      background-color: #3B4455;\n",
       "      fill: #D2E3FC;\n",
       "    }\n",
       "\n",
       "    [theme=dark] .colab-df-convert:hover {\n",
       "      background-color: #434B5C;\n",
       "      box-shadow: 0px 1px 3px 1px rgba(0, 0, 0, 0.15);\n",
       "      filter: drop-shadow(0px 1px 2px rgba(0, 0, 0, 0.3));\n",
       "      fill: #FFFFFF;\n",
       "    }\n",
       "  </style>\n",
       "\n",
       "      <script>\n",
       "        const buttonEl =\n",
       "          document.querySelector('#df-12f8e9df-0766-4025-af30-3507bf3ddd11 button.colab-df-convert');\n",
       "        buttonEl.style.display =\n",
       "          google.colab.kernel.accessAllowed ? 'block' : 'none';\n",
       "\n",
       "        async function convertToInteractive(key) {\n",
       "          const element = document.querySelector('#df-12f8e9df-0766-4025-af30-3507bf3ddd11');\n",
       "          const dataTable =\n",
       "            await google.colab.kernel.invokeFunction('convertToInteractive',\n",
       "                                                     [key], {});\n",
       "          if (!dataTable) return;\n",
       "\n",
       "          const docLinkHtml = 'Like what you see? Visit the ' +\n",
       "            '<a target=\"_blank\" href=https://colab.research.google.com/notebooks/data_table.ipynb>data table notebook</a>'\n",
       "            + ' to learn more about interactive tables.';\n",
       "          element.innerHTML = '';\n",
       "          dataTable['output_type'] = 'display_data';\n",
       "          await google.colab.output.renderOutput(dataTable, element);\n",
       "          const docLink = document.createElement('div');\n",
       "          docLink.innerHTML = docLinkHtml;\n",
       "          element.appendChild(docLink);\n",
       "        }\n",
       "      </script>\n",
       "    </div>\n",
       "  </div>\n",
       "  "
      ],
      "text/plain": [
       "                           CLEE       Id  \\\n",
       "0  07097114119000072001000000U9  6168429   \n",
       "1  07107114119000143101000000U5  6168481   \n",
       "2  07014522460000032000000000U2  9328365   \n",
       "3  07014522460000042000044051S1  9328366   \n",
       "4  07074621111000171000000000U1  9331897   \n",
       "\n",
       "                                              Nombre  \\\n",
       "0                               CORALES DEL PACIFICO   \n",
       "1             PESCADORES DE RANCHERIA LAS MARGARITAS   \n",
       "2       \\tMotus Invertere, S.A. de C.V., SOFOM, E.R.   \n",
       "3  \\tProyectos Adamantine, S.A. de C.V., SOFOM, E...   \n",
       "4                     (H) CONSULTORIO REFORMA, CHIS.   \n",
       "\n",
       "                                        Razon_social  \\\n",
       "0  SOCIEDAD COPERATIVA CORALES DEL PACIFICO SC DE RL   \n",
       "1    PESCADORES DE RANCHERIA LAS MARGARITAS SA DE CV   \n",
       "2                           MOTUS INVERTERE SA DE CV   \n",
       "3            PROYECTOS ADAMANTINE SA DE CV SOFOM ERP   \n",
       "4                    (H) CONSULTORIO REFORMA, CHIS.    \n",
       "\n",
       "                                     Clase_actividad           Estrato  \\\n",
       "0  Pesca y captura de peces, crustáceos, moluscos...  11 a 30 personas   \n",
       "1  Pesca y captura de peces, crustáceos, moluscos...  11 a 30 personas   \n",
       "2          Sociedades financieras de objeto múltiple   6 a 10 personas   \n",
       "3          Sociedades financieras de objeto múltiple   6 a 10 personas   \n",
       "4  Consultorios de medicina general del sector pr...    0 a 5 personas   \n",
       "\n",
       "        Tipo_vialidad           Calle Num_Exterior Num_Interior  ...  \\\n",
       "0  OTRO (ESPECIFIQUE)         NINGUNO            0            0  ...   \n",
       "1               CALLE  LAS MARGARITAS            0            0  ...   \n",
       "2                                                                ...   \n",
       "3                                                                ...   \n",
       "4                                                                ...   \n",
       "\n",
       "                               Ubicacion Telefono Correo_e Sitio_internet  \\\n",
       "0               PAREDÓN, Tonalá, CHIAPAS                                    \n",
       "1  JERICÓ (PORVENIR), El Parral, CHIAPAS                                    \n",
       "2          EL BOSQUE, El Bosque, CHIAPAS                                    \n",
       "3          EL BOSQUE, El Bosque, CHIAPAS                                    \n",
       "4              REFORMA, Reforma, CHIAPAS                                    \n",
       "\n",
       "   Tipo      Longitud      Latitud tipo_corredor_industrial  \\\n",
       "0  Fijo  -93.87062909  16.04932792                            \n",
       "1  Fijo  -92.95530000  16.26040000                            \n",
       "2  Fijo  -92.72125300  17.06182700                            \n",
       "3  Fijo  -92.72125300  17.06182700                            \n",
       "4  Fijo  -93.15848314  17.86064208                            \n",
       "\n",
       "  nom_corredor_industrial numero_local  \n",
       "0                                       \n",
       "1                                       \n",
       "2                                       \n",
       "3                                       \n",
       "4                                       \n",
       "\n",
       "[5 rows x 22 columns]"
      ]
     },
     "execution_count": 13,
     "metadata": {},
     "output_type": "execute_result"
    }
   ],
   "source": [
    "data_dataframe.head()"
   ]
  },
  {
   "cell_type": "code",
   "execution_count": null,
   "metadata": {
    "colab": {
     "base_uri": "https://localhost:8080/"
    },
    "executionInfo": {
     "elapsed": 132,
     "status": "ok",
     "timestamp": 1663619383042,
     "user": {
      "displayName": "Gonzalo G. Peraza Mues",
      "userId": "05117844317547842340"
     },
     "user_tz": 300
    },
    "id": "fDiMWbO-qdlR",
    "outputId": "54752a61-fd90-466d-cd42-0e7879b1dce2"
   },
   "outputs": [
    {
     "data": {
      "text/plain": [
       "(218824, 22)"
      ]
     },
     "execution_count": 14,
     "metadata": {},
     "output_type": "execute_result"
    }
   ],
   "source": [
    "data_dataframe.shape"
   ]
  },
  {
   "cell_type": "markdown",
   "metadata": {
    "id": "49GnUCs7rzvV"
   },
   "source": [
    "1. Crea una función `BuscarEntidad()` en Python, que reciba los parámetros de entrada, consulte la API anteriormente descrita y devuelva un dataframe con los resultados."
   ]
  },
  {
   "cell_type": "code",
   "execution_count": null,
   "metadata": {
    "id": "D1i6cMnXrw1I"
   },
   "outputs": [],
   "source": [
    "def BuscarEntida(condicion, entidad, registro_inicial, registro_final, token):\n",
    "    url = f'https://www.inegi.org.mx/app/api/denue/v1/consulta/BuscarEntidad/{condicion}/{entidad}/{registro_inicial}/{registro_final}/{token}'\n",
    "\n",
    "\n",
    "\n",
    "    return data_frame"
   ]
  },
  {
   "cell_type": "code",
   "execution_count": null,
   "metadata": {
    "colab": {
     "base_uri": "https://localhost:8080/",
     "height": 35
    },
    "executionInfo": {
     "elapsed": 9,
     "status": "ok",
     "timestamp": 1663620179501,
     "user": {
      "displayName": "Gonzalo G. Peraza Mues",
      "userId": "05117844317547842340"
     },
     "user_tz": 300
    },
    "id": "oGxZBiche3Li",
    "outputId": "b036918b-5234-405b-b31d-343e85fb8ad1"
   },
   "outputs": [
    {
     "data": {
      "application/vnd.google.colaboratory.intrinsic+json": {
       "type": "string"
      },
      "text/plain": [
       "'https://www.inegi.org.mx/app/api/denue/v1/consulta/BuscarEntidad/todos/7/1/100/6957c2d6-677f-49b0-8264-3c92937d436f'"
      ]
     },
     "execution_count": 21,
     "metadata": {},
     "output_type": "execute_result"
    }
   ],
   "source": [
    "data_frame = BuscarEntida('todos', 7, 1, 100, token)"
   ]
  },
  {
   "cell_type": "markdown",
   "metadata": {
    "id": "GAcsUWZesFz2"
   },
   "source": [
    "2. Considerando `data_dataframe`, ¿cuales son las `Clase_actividad` con mayor registros?"
   ]
  },
  {
   "cell_type": "code",
   "execution_count": null,
   "metadata": {
    "id": "PyI2yxUEsTeZ"
   },
   "outputs": [],
   "source": [
    "import pandas as pd\n",
    "\n",
    "\n",
    "print(data_dataframe.columns)\n",
    "\n",
    "actividad_counts = (\n",
    "    data_dataframe[\"Clase_actividad\"]\n",
    "    .value_counts()\n",
    "    .reset_index()\n",
    "    .rename(columns={\"index\": \"Clase_actividad\", \"Clase_actividad\": \"Registros\"})\n",
    ")\n",
    "\n",
    "print(actividad_counts.head(10)) "
   ]
  },
  {
   "cell_type": "markdown",
   "metadata": {
    "id": "ScidxKzesWyW"
   },
   "source": [
    "3. Considerando `data_dataframe`, ¿cuales son los `Estrato` con mayor registros?"
   ]
  },
  {
   "cell_type": "code",
   "execution_count": null,
   "metadata": {
    "id": "RPWwZXCnsT_Z"
   },
   "outputs": [],
   "source": [
    "estrato_counts = (\n",
    "    data_dataframe[\"Estrato\"]\n",
    "    .value_counts()\n",
    "    .reset_index()\n",
    "    .rename(columns={\"index\": \"Estrato\", \"Estrato\": \"Registros\"})\n",
    ")\n",
    "\n",
    "print(estrato_counts)\n"
   ]
  },
  {
   "cell_type": "markdown",
   "metadata": {
    "id": "ocBstrSdslpF"
   },
   "source": [
    "4. Lee acerca del método `Buscar` en la documentación. Realiza una consulta de todos los establecimientos que cumplan las condiciones definidas. Crea una función en Python que tenga como parámetros, los elementos necesarios para consultar la API, realice la consulta y devuelva un dataframe con los resultados. Ubica los establecimientos a 100 m del Parque Central de Tuxtla Gutiérrez."
   ]
  },
  {
   "cell_type": "code",
   "execution_count": null,
   "metadata": {
    "id": "Y4MiRQ7psdFe"
   },
   "outputs": [],
   "source": [
    "import requests\n",
    "import pandas as pd\n",
    "\n",
    "def buscar_denue(palabra, latitud, longitud, distancia, token):\n",
    "    \"\"\"\n",
    "    Consulta la API DENUE usando el método Buscar.\n",
    "    \n",
    "    Parámetros:\n",
    "        palabra (str): Término de búsqueda, por ejemplo 'todos' o 'restaurante'.\n",
    "        latitud (float): Latitud del punto de referencia.\n",
    "        longitud (float): Longitud del punto de referencia.\n",
    "        distancia (int): Radio de búsqueda en metros.\n",
    "        token (str): Token de acceso al API de INEGI.\n",
    "    \n",
    "    Retorna:\n",
    "        pd.DataFrame: DataFrame con los resultados de la consulta.\n",
    "    \"\"\"\n",
    "    url = f\"https://www.inegi.org.mx/app/api/denue/v1/consulta/buscar/{palabra}/{latitud},{longitud}/{distancia}/{token}\"\n",
    "    response = requests.get(url)\n",
    "\n",
    "    if response.status_code == 200:\n",
    "        data = response.json()\n",
    "        return pd.DataFrame(data)\n",
    "    else:\n",
    "        print(f\"Error en la petición: {response.status_code}\")\n",
    "        return pd.DataFrame()\n",
    "\n",
    "df_tuxtla = buscar_denue(\"todos\", 16.752681, -93.116981, 100, token)\n",
    "\n",
    "print(df_tuxtla.head())\n"
   ]
  },
  {
   "cell_type": "markdown",
   "metadata": {
    "id": "WG3MYx-kturk"
   },
   "source": [
    "5. ¿Cuáles son las `Clase_actividad` con mayor registros en la petición anterior?"
   ]
  },
  {
   "cell_type": "code",
   "execution_count": null,
   "metadata": {
    "id": "mNRmK63b11eI"
   },
   "outputs": [],
   "source": [
    "clase_counts = (\n",
    "    df_tuxtla[\"Clase_actividad\"]\n",
    "    .value_counts()\n",
    "    .reset_index()\n",
    "    .rename(columns={\"index\": \"Clase_actividad\", \"Clase_actividad\": \"Registros\"})\n",
    ")\n",
    "\n",
    "print(clase_counts.head(10))\n"
   ]
  },
  {
   "cell_type": "code",
   "execution_count": null,
   "metadata": {
    "id": "z5e4ZG0km1s1"
   },
   "outputs": [],
   "source": []
  }
 ],
 "metadata": {
  "colab": {
   "provenance": []
  },
  "kernelspec": {
   "display_name": "Python 3",
   "name": "python3"
  },
  "language_info": {
   "name": "python"
  }
 },
 "nbformat": 4,
 "nbformat_minor": 0
}
