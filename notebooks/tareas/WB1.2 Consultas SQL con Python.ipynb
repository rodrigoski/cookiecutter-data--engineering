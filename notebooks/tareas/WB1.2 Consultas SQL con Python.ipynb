{
 "cells": [
  {
   "cell_type": "markdown",
   "id": "d4f42b75-84a3-4353-b3ec-6d9c5abd82da",
   "metadata": {},
   "source": [
    "# WB4.3 Introducción a SQL\n",
    "\n",
    "En esta cuaderno de trabajo se explorarán la base de datos `music.db` mediante consultas de SQL. La base de datos contiene tres tablas:\n",
    "* `songs`, que contiene un identificador `_id`, el título de la canción `title` y el album `album`. \n",
    "* `albums`, que contiene un identificador `_id`, el nombre del album `name` y el artista `artist`. \n",
    "* `artists`, que contiene un identificador `_id` y su nombre `name`. \n",
    "\n",
    "Completa las siguientes instrucciones de acuerdo a lo visto en el tema."
   ]
  },
  {
   "cell_type": "markdown",
   "id": "5e6d0b6b-2fb4-4f28-9baf-cdbe85c06497",
   "metadata": {},
   "source": [
    "## 1. Acceso a los Datos con Queries."
   ]
  },
  {
   "cell_type": "markdown",
   "id": "5c503d46-1a47-4968-aa89-a4024569ae18",
   "metadata": {},
   "source": [
    "1. Crea la conexión y un cursor a la base de datos."
   ]
  },
  {
   "cell_type": "code",
   "execution_count": null,
   "id": "ed933d5d-df90-41d8-8dfd-adf7b158ecd6",
   "metadata": {},
   "outputs": [],
   "source": [
    "import sqlite3\n",
    "import pandas as pd\n",
    "\n",
    "conn = sqlite3.connect(\"music.db\")\n",
    "cursor = conn.cursor()\n"
   ]
  },
  {
   "cell_type": "markdown",
   "id": "9d8fb880-6422-43d6-a493-154145b8c6ac",
   "metadata": {},
   "source": [
    "2. Explora todas las columnas en todas antes mencionadas tablas. Muestra los primeros 10 registros."
   ]
  },
  {
   "cell_type": "code",
   "execution_count": null,
   "id": "69ca23df-d910-4a5d-ae0b-660fef5e9dd6",
   "metadata": {},
   "outputs": [],
   "source": [
    "def mostrar_tabla(nombre_tabla):\n",
    "    print(f\"\\nTabla: {nombre_tabla}\")\n",
    "    df = pd.read_sql_query(f\"SELECT * FROM {nombre_tabla} LIMIT 10;\", conn)\n",
    "    display(df)\n",
    "\n",
    "for tabla in [\"songs\", \"albums\", \"artists\"]:\n",
    "    mostrar_tabla(tabla)\n"
   ]
  },
  {
   "cell_type": "markdown",
   "id": "912edb7c-ddc4-4d9b-ad51-347226155c0f",
   "metadata": {},
   "source": [
    "3. Iron Maiden tiene como `_id = 8`en la tabla de artistas. Emplea este id para identificar sus álbumes en la tabla `albums`. Observa que la columna `artist` hace referencia a los id de los artistas. "
   ]
  },
  {
   "cell_type": "code",
   "execution_count": null,
   "id": "707ba2e3-0715-4255-8b46-311b4c98928e",
   "metadata": {},
   "outputs": [],
   "source": [
    "iron_maiden_albums = pd.read_sql_query(\"\"\"\n",
    "    SELECT * \n",
    "    FROM albums\n",
    "    WHERE artist = 8;\n",
    "\"\"\", conn)\n",
    "\n",
    "display(iron_maiden_albums)"
   ]
  },
  {
   "cell_type": "markdown",
   "id": "b58acaad-42c5-47be-99d3-b9f31efc574c",
   "metadata": {},
   "source": [
    "4. Muestras las canciones del album \"The Number of the Beast\". Presenta tus resultados en orden alfabético."
   ]
  },
  {
   "cell_type": "code",
   "execution_count": null,
   "id": "c0f8cab4-70dd-4b02-bda5-29f6625f6675",
   "metadata": {},
   "outputs": [],
   "source": [
    "songs_number_beast = pd.read_sql_query(\"\"\"\n",
    "    SELECT s.title\n",
    "    FROM songs s\n",
    "    JOIN albums a ON s.album = a._id\n",
    "    WHERE a.name = 'The Number of the Beast'\n",
    "    ORDER BY s.title ASC;\n",
    "\"\"\", conn)\n",
    "\n",
    "display(songs_number_beast)\n"
   ]
  },
  {
   "cell_type": "markdown",
   "id": "1beb281b-894c-420a-880e-e255f5be1a5a",
   "metadata": {
    "tags": []
   },
   "source": [
    "## 2. Agregaciones y Agrupamientos de Datos."
   ]
  },
  {
   "cell_type": "markdown",
   "id": "ccf2faff-55aa-49df-a6bb-a5e8c0f3049b",
   "metadata": {},
   "source": [
    "1. ¿Cuantas canciones, albumes y artistas se tienen registrados en la base de datos?"
   ]
  },
  {
   "cell_type": "code",
   "execution_count": null,
   "id": "081f1b12-3438-443a-8267-ee05995f5464",
   "metadata": {},
   "outputs": [],
   "source": [
    "conteos = {}\n",
    "for tabla in [\"songs\", \"albums\", \"artists\"]:\n",
    "    cursor.execute(f\"SELECT COUNT(*) FROM {tabla}\")\n",
    "    conteos[tabla] = cursor.fetchone()[0]\n",
    "\n",
    "conteos\n"
   ]
  },
  {
   "cell_type": "markdown",
   "id": "51b5ed2c-6463-41b9-852c-e5df78e620cb",
   "metadata": {},
   "source": [
    "2. Agrupa la tabla albums por artista para identificar qué cuales son los 5 artistas que tienen más albumes."
   ]
  },
  {
   "cell_type": "code",
   "execution_count": null,
   "id": "b91d7345-d5f8-48a1-9cd6-3e973cb3b286",
   "metadata": {},
   "outputs": [],
   "source": [
    "# Consulta SQL que utiliza una subconsulta para primero agregar los datos.\n",
    "query_top_artists = \"\"\"\n",
    "    SELECT\n",
    "        artists_table.name,\n",
    "        album_counts.total_albums\n",
    "    FROM\n",
    "        artists AS artists_table\n",
    "    INNER JOIN\n",
    "        (\n",
    "            SELECT\n",
    "                artist AS artist_id,\n",
    "                COUNT(_id) AS total_albums\n",
    "            FROM\n",
    "                albums\n",
    "            GROUP BY\n",
    "                artist_id\n",
    "        ) AS album_counts ON artists_table._id = album_counts.artist_id\n",
    "    ORDER BY\n",
    "        album_counts.total_albums DESC\n",
    "    LIMIT 5;\n",
    "\"\"\"\n",
    "\n",
    "# Ejecutar la consulta y cargarla en un DataFrame de pandas.\n",
    "top_artists_df = pd.read_sql_query(query_top_artists, conn)\n",
    "\n",
    "# Mostrar los 5 artistas con más álbumes.\n",
    "display(top_artists_df)"
   ]
  },
  {
   "cell_type": "markdown",
   "id": "5d22afd2-5827-49eb-b733-0d8454a6c3d3",
   "metadata": {},
   "source": [
    "3. Presenta el nombre de los artistas identificados en el punto anterior."
   ]
  },
  {
   "cell_type": "code",
   "execution_count": null,
   "id": "7d1be615-d89f-4804-af5c-022d186298a6",
   "metadata": {},
   "outputs": [],
   "source": [
    "top5_nombres = pd.read_sql_query(\"\"\"\n",
    "    SELECT ar.name, COUNT(al._id) AS num_albums\n",
    "    FROM albums al\n",
    "    JOIN artists ar ON al.artist = ar._id\n",
    "    GROUP BY ar._id\n",
    "    ORDER BY num_albums DESC\n",
    "    LIMIT 5;\n",
    "\"\"\", conn)\n",
    "\n",
    "display(top5_nombres)"
   ]
  },
  {
   "cell_type": "markdown",
   "id": "fc2523ba-0a74-44bc-b23f-1ac3652090f2",
   "metadata": {},
   "source": [
    "4. ¿Cuál es el album con más canciones? Investiga sobre este album en la red."
   ]
  },
  {
   "cell_type": "code",
   "execution_count": null,
   "id": "41ec3f73-4ec6-4fdb-a84c-157e0d6ce6d4",
   "metadata": {},
   "outputs": [],
   "source": [
    "# Definir la consulta utilizando una Expresión Común de Tabla (CTE).\n",
    "# La CTE 'conteo_canciones_por_album' primero calcula cuántas canciones tiene cada álbum.\n",
    "query_album_top = \"\"\"\n",
    "    WITH conteo_canciones_por_album AS (\n",
    "        SELECT\n",
    "            album AS album_id,\n",
    "            COUNT(_id) AS numero_de_canciones\n",
    "        FROM\n",
    "            songs\n",
    "        GROUP BY\n",
    "            album\n",
    "    )\n",
    "    SELECT\n",
    "        a.name AS nombre_album,\n",
    "        c.numero_de_canciones\n",
    "    FROM\n",
    "        conteo_canciones_por_album c\n",
    "    INNER JOIN\n",
    "        albums a ON c.album_id = a._id\n",
    "    ORDER BY\n",
    "        c.numero_de_canciones DESC\n",
    "    LIMIT 1;\n",
    "\"\"\"\n",
    "\n",
    "# Ejecutar la consulta SQL y cargar el resultado en un DataFrame.\n",
    "df_top_album = pd.read_sql_query(query_album_top, conn)\n",
    "\n",
    "# Mostrar el DataFrame con el resultado.\n",
    "display(df_top_album)"
   ]
  },
  {
   "cell_type": "markdown",
   "id": "a1bae3b2-4329-464e-ace2-e86c082e7f72",
   "metadata": {},
   "source": [
    "## 3. Combinación de Tablas."
   ]
  },
  {
   "cell_type": "markdown",
   "id": "7fa30899-4f05-4070-ba10-bd0fcf9cb09b",
   "metadata": {},
   "source": [
    "1. Muestra todas el nombre canciones del album \"Seventh Son Of A Seventh Son\" que tiene por '_id = 420'. Presenta la lista en el *track order* (`track`)."
   ]
  },
  {
   "cell_type": "code",
   "execution_count": null,
   "id": "b5a126b1-6878-4eda-8317-59d8a5268f55",
   "metadata": {},
   "outputs": [],
   "source": [
    "# Definir la consulta SQL con un marcador de posición (?) para el parámetro.\n",
    "# Esto previene la inyección de SQL y hace el código más reutilizable.\n",
    "sql_query = \"\"\"\n",
    "    SELECT\n",
    "        title,\n",
    "        track\n",
    "    FROM\n",
    "        songs\n",
    "    WHERE\n",
    "        album = ?\n",
    "    ORDER BY\n",
    "        track ASC;\n",
    "\"\"\"\n",
    "\n",
    "# Asignar el ID del álbum a una variable para mayor claridad.\n",
    "album_id_to_find = 420\n",
    "\n",
    "# Ejecutar la consulta usando pd.read_sql y pasando el parámetro de forma segura.\n",
    "# El argumento 'params' asocia la variable 'album_id_to_find' con el marcador '?'.\n",
    "tracks_df = pd.read_sql(\n",
    "    sql_query,\n",
    "    conn,\n",
    "    params=(album_id_to_find,)\n",
    ")\n",
    "\n",
    "# Mostrar el DataFrame resultante.\n",
    "display(tracks_df)\n"
   ]
  },
  {
   "cell_type": "markdown",
   "id": "533e3871-97ac-4e5e-a40e-1b374edb27bc",
   "metadata": {},
   "source": [
    "2. Obtén todas las canciones de Aeroesmith en orden alfabético. Solo incluye el título en la salida ¿Cuántas son?"
   ]
  },
  {
   "cell_type": "code",
   "execution_count": null,
   "id": "c6012e01-c6c3-40df-bfc1-82c0c166c95c",
   "metadata": {},
   "outputs": [],
   "source": [
    "# Definir el nombre del artista que queremos buscar.\n",
    "artist_to_find = 'Aerosmith'\n",
    "\n",
    "# La consulta utiliza una subconsulta para encontrar el ID del artista.\n",
    "# Esto evita un JOIN adicional en la consulta principal.\n",
    "# El nombre del artista se pasa como un parámetro (?) para seguridad.\n",
    "query_songs_by_artist = \"\"\"\n",
    "    SELECT\n",
    "        s.title\n",
    "    FROM\n",
    "        songs AS s\n",
    "    INNER JOIN\n",
    "        albums AS a ON s.album = a._id\n",
    "    WHERE\n",
    "        a.artist = (SELECT _id FROM artists WHERE name = ?)\n",
    "    ORDER BY\n",
    "        s.title ASC;\n",
    "\"\"\"\n",
    "\n",
    "# Ejecutar la consulta pasando el nombre del artista como parámetro.\n",
    "songs_df = pd.read_sql(\n",
    "    query_songs_by_artist,\n",
    "    conn,\n",
    "    params=(artist_to_find,)\n",
    ")\n",
    "\n",
    "# Mostrar los títulos de las canciones.\n",
    "display(songs_df)\n",
    "\n",
    "# Imprimir el conteo total de canciones encontradas.\n",
    "print(f\"Total de canciones de {artist_to_find}: {len(songs_df)}\")"
   ]
  },
  {
   "cell_type": "markdown",
   "id": "7102ad70-d568-4c9a-bf8b-e8ab701446c6",
   "metadata": {},
   "source": [
    "## Referencias\n",
    "* Actividad basada en SQLite-Exercises: https://github.com/IancuIulian/SQLite-Exercises"
   ]
  },
  {
   "cell_type": "code",
   "execution_count": null,
   "id": "b200ee4f-25a5-4870-9534-b79dd4f48744",
   "metadata": {},
   "outputs": [],
   "source": []
  }
 ],
 "metadata": {
  "kernelspec": {
   "display_name": "Python 3 (ipykernel)",
   "language": "python",
   "name": "python3"
  },
  "language_info": {
   "codemirror_mode": {
    "name": "ipython",
    "version": 3
   },
   "file_extension": ".py",
   "mimetype": "text/x-python",
   "name": "python",
   "nbconvert_exporter": "python",
   "pygments_lexer": "ipython3",
   "version": "3.9.12"
  }
 },
 "nbformat": 4,
 "nbformat_minor": 5
}
