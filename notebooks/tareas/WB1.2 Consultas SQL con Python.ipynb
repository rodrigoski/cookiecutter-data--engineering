{
 "cells": [
  {
   "cell_type": "markdown",
   "id": "d4f42b75-84a3-4353-b3ec-6d9c5abd82da",
   "metadata": {},
   "source": [
    "# WB4.3 Introducción a SQL\n",
    "\n",
    "En esta cuaderno de trabajo se explorarán la base de datos `music.db` mediante consultas de SQL. La base de datos contiene tres tablas:\n",
    "* `songs`, que contiene un identificador `_id`, el título de la canción `title` y el album `album`. \n",
    "* `albums`, que contiene un identificador `_id`, el nombre del album `name` y el artista `artist`. \n",
    "* `artists`, que contiene un identificador `_id` y su nombre `name`. \n",
    "\n",
    "Completa las siguientes instrucciones de acuerdo a lo visto en el tema."
   ]
  },
  {
   "cell_type": "markdown",
   "id": "5e6d0b6b-2fb4-4f28-9baf-cdbe85c06497",
   "metadata": {},
   "source": [
    "## 1. Acceso a los Datos con Queries."
   ]
  },
  {
   "cell_type": "markdown",
   "id": "5c503d46-1a47-4968-aa89-a4024569ae18",
   "metadata": {},
   "source": [
    "1. Crea la conexión y un cursor a la base de datos."
   ]
  },
  {
   "cell_type": "code",
   "execution_count": null,
   "id": "ed933d5d-df90-41d8-8dfd-adf7b158ecd6",
   "metadata": {},
   "outputs": [],
   "source": [
    "import sqlite3\n",
    "import pandas as pd\n",
    "\n",
    "conn = sqlite3.connect(\"music.db\")\n",
    "cursor = conn.cursor()\n"
   ]
  },
  {
   "cell_type": "markdown",
   "id": "9d8fb880-6422-43d6-a493-154145b8c6ac",
   "metadata": {},
   "source": [
    "2. Explora todas las columnas en todas antes mencionadas tablas. Muestra los primeros 10 registros."
   ]
  },
  {
   "cell_type": "code",
   "execution_count": null,
   "id": "69ca23df-d910-4a5d-ae0b-660fef5e9dd6",
   "metadata": {},
   "outputs": [],
   "source": [
    "def mostrar_tabla(nombre_tabla):\n",
    "    print(f\"\\nTabla: {nombre_tabla}\")\n",
    "    df = pd.read_sql_query(f\"SELECT * FROM {nombre_tabla} LIMIT 10;\", conn)\n",
    "    display(df)\n",
    "\n",
    "for tabla in [\"songs\", \"albums\", \"artists\"]:\n",
    "    mostrar_tabla(tabla)\n"
   ]
  },
  {
   "cell_type": "markdown",
   "id": "912edb7c-ddc4-4d9b-ad51-347226155c0f",
   "metadata": {},
   "source": [
    "3. Iron Maiden tiene como `_id = 8`en la tabla de artistas. Emplea este id para identificar sus álbumes en la tabla `albums`. Observa que la columna `artist` hace referencia a los id de los artistas. "
   ]
  },
  {
   "cell_type": "code",
   "execution_count": null,
   "id": "707ba2e3-0715-4255-8b46-311b4c98928e",
   "metadata": {},
   "outputs": [],
   "source": [
    "iron_maiden_albums = pd.read_sql_query(\"\"\"\n",
    "    SELECT * \n",
    "    FROM albums\n",
    "    WHERE artist = 8;\n",
    "\"\"\", conn)\n",
    "\n",
    "display(iron_maiden_albums)"
   ]
  },
  {
   "cell_type": "markdown",
   "id": "b58acaad-42c5-47be-99d3-b9f31efc574c",
   "metadata": {},
   "source": [
    "4. Muestras las canciones del album \"The Number of the Beast\". Presenta tus resultados en orden alfabético."
   ]
  },
  {
   "cell_type": "code",
   "execution_count": null,
   "id": "c0f8cab4-70dd-4b02-bda5-29f6625f6675",
   "metadata": {},
   "outputs": [],
   "source": [
    "songs_number_beast = pd.read_sql_query(\"\"\"\n",
    "    SELECT s.title\n",
    "    FROM songs s\n",
    "    JOIN albums a ON s.album = a._id\n",
    "    WHERE a.name = 'The Number of the Beast'\n",
    "    ORDER BY s.title ASC;\n",
    "\"\"\", conn)\n",
    "\n",
    "display(songs_number_beast)\n"
   ]
  },
  {
   "cell_type": "markdown",
   "id": "1beb281b-894c-420a-880e-e255f5be1a5a",
   "metadata": {
    "tags": []
   },
   "source": [
    "## 2. Agregaciones y Agrupamientos de Datos."
   ]
  },
  {
   "cell_type": "markdown",
   "id": "ccf2faff-55aa-49df-a6bb-a5e8c0f3049b",
   "metadata": {},
   "source": [
    "1. ¿Cuantas canciones, albumes y artistas se tienen registrados en la base de datos?"
   ]
  },
  {
   "cell_type": "code",
   "execution_count": null,
   "id": "081f1b12-3438-443a-8267-ee05995f5464",
   "metadata": {},
   "outputs": [],
   "source": [
    "conteos = {}\n",
    "for tabla in [\"songs\", \"albums\", \"artists\"]:\n",
    "    cursor.execute(f\"SELECT COUNT(*) FROM {tabla}\")\n",
    "    conteos[tabla] = cursor.fetchone()[0]\n",
    "\n",
    "conteos\n"
   ]
  },
  {
   "cell_type": "markdown",
   "id": "51b5ed2c-6463-41b9-852c-e5df78e620cb",
   "metadata": {},
   "source": [
    "2. Agrupa la tabla albums por artista para identificar qué cuales son los 5 artistas que tienen más albumes."
   ]
  },
  {
   "cell_type": "code",
   "execution_count": null,
   "id": "b91d7345-d5f8-48a1-9cd6-3e973cb3b286",
   "metadata": {},
   "outputs": [],
   "source": [
    "top5_artistas = pd.read_sql_query(\"\"\"\n",
    "    SELECT artist, COUNT(*) AS num_albums\n",
    "    FROM albums\n",
    "    GROUP BY artist\n",
    "    ORDER BY num_albums DESC\n",
    "    LIMIT 5;\n",
    "\"\"\", conn)\n",
    "\n",
    "display(top5_artistas)\n"
   ]
  },
  {
   "cell_type": "markdown",
   "id": "5d22afd2-5827-49eb-b733-0d8454a6c3d3",
   "metadata": {},
   "source": [
    "3. Presenta el nombre de los artistas identificados en el punto anterior."
   ]
  },
  {
   "cell_type": "code",
   "execution_count": null,
   "id": "7d1be615-d89f-4804-af5c-022d186298a6",
   "metadata": {},
   "outputs": [],
   "source": [
    "top5_nombres = pd.read_sql_query(\"\"\"\n",
    "    SELECT ar.name, COUNT(al._id) AS num_albums\n",
    "    FROM albums al\n",
    "    JOIN artists ar ON al.artist = ar._id\n",
    "    GROUP BY ar._id\n",
    "    ORDER BY num_albums DESC\n",
    "    LIMIT 5;\n",
    "\"\"\", conn)\n",
    "\n",
    "display(top5_nombres)"
   ]
  },
  {
   "cell_type": "markdown",
   "id": "fc2523ba-0a74-44bc-b23f-1ac3652090f2",
   "metadata": {},
   "source": [
    "4. ¿Cuál es el album con más canciones? Investiga sobre este album en la red."
   ]
  },
  {
   "cell_type": "code",
   "execution_count": null,
   "id": "41ec3f73-4ec6-4fdb-a84c-157e0d6ce6d4",
   "metadata": {},
   "outputs": [],
   "source": [
    "album_mas_canciones = pd.read_sql_query(\"\"\"\n",
    "    SELECT a.name, COUNT(s._id) AS num_songs\n",
    "    FROM songs s\n",
    "    JOIN albums a ON s.album = a._id\n",
    "    GROUP BY s.album\n",
    "    ORDER BY num_songs DESC\n",
    "    LIMIT 1;\n",
    "\"\"\", conn)\n",
    "\n",
    "display(album_mas_canciones)\n"
   ]
  },
  {
   "cell_type": "markdown",
   "id": "a1bae3b2-4329-464e-ace2-e86c082e7f72",
   "metadata": {},
   "source": [
    "## 3. Combinación de Tablas."
   ]
  },
  {
   "cell_type": "markdown",
   "id": "7fa30899-4f05-4070-ba10-bd0fcf9cb09b",
   "metadata": {},
   "source": [
    "1. Muestra todas el nombre canciones del album \"Seventh Son Of A Seventh Son\" que tiene por '_id = 420'. Presenta la lista en el *track order* (`track`)."
   ]
  },
  {
   "cell_type": "code",
   "execution_count": null,
   "id": "b5a126b1-6878-4eda-8317-59d8a5268f55",
   "metadata": {},
   "outputs": [],
   "source": [
    "seventh_son_tracks = pd.read_sql_query(\"\"\"\n",
    "    SELECT title, track\n",
    "    FROM songs\n",
    "    WHERE album = 420\n",
    "    ORDER BY track ASC;\n",
    "\"\"\", conn)\n",
    "\n",
    "display(seventh_son_tracks)\n"
   ]
  },
  {
   "cell_type": "markdown",
   "id": "533e3871-97ac-4e5e-a40e-1b374edb27bc",
   "metadata": {},
   "source": [
    "2. Obtén todas las canciones de Aeroesmith en orden alfabético. Solo incluye el título en la salida ¿Cuántas son?"
   ]
  },
  {
   "cell_type": "code",
   "execution_count": null,
   "id": "c6012e01-c6c3-40df-bfc1-82c0c166c95c",
   "metadata": {},
   "outputs": [],
   "source": [
    "aerosmith_songs = pd.read_sql_query(\"\"\"\n",
    "    SELECT s.title\n",
    "    FROM songs s\n",
    "    JOIN albums a ON s.album = a._id\n",
    "    JOIN artists ar ON a.artist = ar._id\n",
    "    WHERE ar.name = 'Aerosmith'\n",
    "    ORDER BY s.title ASC;\n",
    "\"\"\", conn)\n",
    "\n",
    "display(aerosmith_songs)\n",
    "print(\"Total de canciones:\", len(aerosmith_songs))\n"
   ]
  },
  {
   "cell_type": "markdown",
   "id": "7102ad70-d568-4c9a-bf8b-e8ab701446c6",
   "metadata": {},
   "source": [
    "## Referencias\n",
    "* Actividad basada en SQLite-Exercises: https://github.com/IancuIulian/SQLite-Exercises"
   ]
  },
  {
   "cell_type": "code",
   "execution_count": null,
   "id": "b200ee4f-25a5-4870-9534-b79dd4f48744",
   "metadata": {},
   "outputs": [],
   "source": []
  }
 ],
 "metadata": {
  "kernelspec": {
   "display_name": "Python 3 (ipykernel)",
   "language": "python",
   "name": "python3"
  },
  "language_info": {
   "codemirror_mode": {
    "name": "ipython",
    "version": 3
   },
   "file_extension": ".py",
   "mimetype": "text/x-python",
   "name": "python",
   "nbconvert_exporter": "python",
   "pygments_lexer": "ipython3",
   "version": "3.9.12"
  }
 },
 "nbformat": 4,
 "nbformat_minor": 5
}
