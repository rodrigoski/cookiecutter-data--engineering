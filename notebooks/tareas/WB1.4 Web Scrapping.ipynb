{
 "cells": [
  {
   "cell_type": "markdown",
   "metadata": {
    "id": "2XQUEPmnB3mT"
   },
   "source": [
    "## Ejercicio 1\n",
    "\n",
    "Una de las fuentes de información más importante para tener el contexto de lo que ocurre en el día a día son las noticias. Muchas veces, la información disponible en ella es únicamente accesible a través de sus páginas web.\n",
    "\n",
    "En esta actividad, explorarás cómo acceder al nombre de los autores, fecha, títulos y texto de artículos en CNN.\n",
    "\n",
    "1. Accede a la siguiente [página](https://edition.cnn.com/2022/09/19/tech/uber-lapsus-cybersecurity-incident/index.html). Utilizando el inspector de elementos observa las etiquetas empleadas para acceder al título, autor, fecha de publicación y texto del artículo.\n",
    "\n",
    "2. Realiza la petición a `https://edition.cnn.com/2022/09/19/tech/uber-lapsus-cybersecurity-incident/index.html` y emplea la función `BeautifulSoup` para poder obtener el objeto de exploración."
   ]
  },
  {
   "cell_type": "code",
   "execution_count": null,
   "metadata": {
    "id": "VkDwZs2V0DEP"
   },
   "outputs": [],
   "source": [
    "import requests\n",
    "from bs4 import BeautifulSoup\n",
    "\n",
    "url = \"https://edition.cnn.com/2022/09/19/tech/uber-lapsus-cybersecurity-incident/index.html\"\n",
    "\n",
    "response = requests.get(url)"
   ]
  },
  {
   "cell_type": "markdown",
   "metadata": {
    "id": "omU3EeqwJxi0"
   },
   "source": [
    "3. Accede al título del artículo."
   ]
  },
  {
   "cell_type": "code",
   "execution_count": null,
   "metadata": {
    "id": "LYEh4GaS0HxT"
   },
   "outputs": [],
   "source": [
    "title = soup.find(\"h1\")\n",
    "title = title.get_text(strip=True) if title else \"No encontrado\"\n",
    "print(\"Título:\", title)\n"
   ]
  },
  {
   "cell_type": "markdown",
   "metadata": {
    "id": "VK-UExi9G72E"
   },
   "source": [
    "4. Accede a la fecha de actualización de artículo. Este se encuentra en un elemento `<p>` que pertenece a la clase `update-time`."
   ]
  },
  {
   "cell_type": "code",
   "execution_count": null,
   "metadata": {
    "id": "Z-s14shE0Jji"
   },
   "outputs": [],
   "source": [
    "date_div = soup.find(\"div\", class_=\"timestamp vossi-timestamp\")\n",
    "date = date_div.get_text(strip=True) if date_div else \"No encontrado\"    \n",
    "print(\"Fecha:\", date)\n"
   ]
  },
  {
   "cell_type": "markdown",
   "metadata": {
    "id": "3wo1NXFVHVHh"
   },
   "source": [
    "5. Accede al autor del artículo. Este se encuentra en un elemento `<span>` que pertenece a la clase `metadata__byline__author`. Observa el resultado al emplear `find_all()` para acceder únicamente al nombre del autor."
   ]
  },
  {
   "cell_type": "code",
   "execution_count": null,
   "metadata": {
    "id": "RhABxpSi0LFj"
   },
   "outputs": [],
   "source": [
    "authors = soup.find_all(\"span\", class_=\"byline__name\")\n",
    "authors = [a.get_text(strip=True) for a in authors] if authors else [\"No encontrado\"]    \n",
    "print(\"Autor(es):\", authors)\n"
   ]
  },
  {
   "cell_type": "markdown",
   "metadata": {
    "id": "iyC5X1dzIaiY"
   },
   "source": [
    "6. Accede al texto del artículo."
   ]
  },
  {
   "cell_type": "code",
   "execution_count": null,
   "metadata": {
    "id": "j0j0eif10fdw"
   },
   "outputs": [],
   "source": [
    "title = soup.find(\"h1\")\n",
    "title = title.get_text(strip=True) if title else \"No encontrado\"\n",
    "print(\"Título:\", title)\n"
   ]
  },
  {
   "cell_type": "markdown",
   "metadata": {
    "id": "2i0yj285uqTH"
   },
   "source": [
    "## Ejercicio 2\n",
    "El objetivo de esta ejercicio es poner en práctica lo revisado sobre Web Scrapping con BeautifulSoup, así como el uso de expresiones regulares para procesar la información obtenida.\n",
    "\n",
    "\n",
    "Complete las siguientes instrucciones de esta revisión:\n",
    "\n",
    "1. Descargar, mediante la función get de la biblioteca requests, el contenido del siguiente sitio web:\n",
    "https://archive.org/details/solarsystemcollection?&sort=-week\n",
    "\n",
    "\n"
   ]
  },
  {
   "cell_type": "code",
   "execution_count": null,
   "metadata": {
    "id": "onJ8A9Zx0ghx"
   },
   "outputs": [],
   "source": [
    "import requests\n",
    "\n",
    "url = \"https://archive.org/details/solarsystemcollection?&sort=-week\"\n",
    "\n",
    "response = requests.get(url)\n",
    "\n",
    "if response.status_code == 200:\n",
    "    html_content = response.text\n",
    "    print(\"✅ Página descargada correctamente\")\n",
    "    print(html_content[:1000])\n",
    "else:\n",
    "    print(f\"❌ Error {response.status_code} al descargar la página\")\n"
   ]
  },
  {
   "cell_type": "markdown",
   "metadata": {
    "id": "MkUklUxEu9vt"
   },
   "source": [
    "2. Transformar a formato BeautifulSoup para identificar los elementos HTML."
   ]
  },
  {
   "cell_type": "code",
   "execution_count": null,
   "metadata": {
    "id": "3u4sPhAM0hqQ"
   },
   "outputs": [],
   "source": [
    "from bs4 import BeautifulSoup\n",
    "\n",
    "\n",
    "\n",
    "if response.status_code == 200:\n",
    "    soup = BeautifulSoup(response.text, \"html.parser\")\n",
    "    \n",
    "    print(soup.prettify()[:1500])  \n",
    "else:\n",
    "    print(f\"❌ Error {response.status_code} al descargar la página\")\n"
   ]
  },
  {
   "cell_type": "markdown",
   "metadata": {
    "id": "gBc1gziJvB_N"
   },
   "source": [
    "\n",
    "3. Acceder a la página web a través de su navegador, seleccionar el nombre de una imagen y entrar en modo inspector para poder ver a qué etiqueta y a qué clase pertenece.\n",
    "\n",
    "4. Encontrar todas las etiquetas \"div\" de la clase \"ttl\" usando la función find_all."
   ]
  },
  {
   "cell_type": "code",
   "execution_count": null,
   "metadata": {
    "id": "SegpaPtO0xgQ"
   },
   "outputs": [],
   "source": [
    "titulos_div = soup.find_all(\"div\", class_=\"ttl\")\n",
    "\n",
    "for div in titulos_div:\n",
    "    titulo = div.get_text(strip=True)\n",
    "    print(titulo)"
   ]
  },
  {
   "cell_type": "markdown",
   "metadata": {
    "id": "eImVh94ZvJjW"
   },
   "source": [
    "5. Mediante un ciclo for que itere sobre dichas etiquetas, extraer únicamente el texto que corresponde al nombre de la imagen, esto con la función .get_text().\n",
    "\n",
    "\n"
   ]
  },
  {
   "cell_type": "code",
   "execution_count": null,
   "metadata": {
    "id": "QETDenl00y_C"
   },
   "outputs": [],
   "source": []
  },
  {
   "cell_type": "markdown",
   "metadata": {
    "id": "wzo3Ws6lvJbh"
   },
   "source": [
    "6. Ahora obtendremos la cantidad de visualizaciones de cada elemento, para eso, primero hay que encontrar todas las etiquetas \"nobr\" de la clase \"hidden-xs\" usando la función find_all. Notar que esto nos regresa tanto la cantidad de visualizaciones como la fecha de archivo (date archived)."
   ]
  },
  {
   "cell_type": "code",
   "execution_count": null,
   "metadata": {
    "id": "WVcjV3HT0-uq"
   },
   "outputs": [],
   "source": []
  },
  {
   "cell_type": "code",
   "execution_count": null,
   "metadata": {
    "id": "GgZG964Y0_Ag"
   },
   "outputs": [],
   "source": []
  },
  {
   "cell_type": "markdown",
   "metadata": {
    "id": "ldJUcVumvJYn"
   },
   "source": [
    "7. Mediante un ciclo for que itere sobre dichas etiquetas, extraer únicamente el texto que corresponde, en este caso, a la cantidad de visualizaciones y a la fecha de archivo, de nuevo, esto con la función .get_text()."
   ]
  },
  {
   "cell_type": "code",
   "execution_count": null,
   "metadata": {
    "id": "TJXIZXeT1Hid"
   },
   "outputs": [],
   "source": []
  },
  {
   "cell_type": "markdown",
   "metadata": {
    "id": "PjwzEnOnvYt5"
   },
   "source": [
    "## Preguntas\n",
    "\n",
    "Después de haber finalizado la ejecución de las instrucciones, contesta lo siguiente:\n",
    "\n",
    "1. ¿Cuál es el tipo de estructura que regresa la función BeautifulSoup()?\n",
    "* bs4.BeautifulSoup\n",
    "\n",
    "\n",
    "2. ¿Cuál es el tipo de estructura que regresa la función .find_all()?\n",
    "* bs4.element.ResultSet\n",
    "\n",
    "3. ¿Cuántos elementos obtuviste con el primer find_all?\n",
    "* 776\n",
    "\n",
    "\n",
    "\n",
    "4. ¿Cuántos elementos obtuviste con el segundo find_all?\n",
    "* 776\n",
    "\n",
    "\n",
    "\n",
    "5. Respecto a las vistas, ¿cuál es el valor máximo que obtuviste?\n",
    "* 170,837\n",
    "\n",
    "\n",
    "6. Respecto a las fechas de archivado, ¿cuál es la fecha más reciente que obtuviste?\n",
    "* Jan 26, 2012\n"
   ]
  },
  {
   "cell_type": "code",
   "execution_count": null,
   "metadata": {
    "id": "b9g8jN7N1Kfe"
   },
   "outputs": [],
   "source": []
  },
  {
   "cell_type": "code",
   "execution_count": null,
   "metadata": {
    "id": "rXHGcdOm1MwB"
   },
   "outputs": [],
   "source": []
  },
  {
   "cell_type": "code",
   "execution_count": null,
   "metadata": {
    "id": "PAA2eVTm1NSI"
   },
   "outputs": [],
   "source": []
  },
  {
   "cell_type": "code",
   "execution_count": null,
   "metadata": {
    "id": "Y2rVoyNi1Nnx"
   },
   "outputs": [],
   "source": []
  }
 ],
 "metadata": {
  "colab": {
   "provenance": []
  },
  "kernelspec": {
   "display_name": "Python 3",
   "name": "python3"
  },
  "language_info": {
   "name": "python"
  }
 },
 "nbformat": 4,
 "nbformat_minor": 0
}
